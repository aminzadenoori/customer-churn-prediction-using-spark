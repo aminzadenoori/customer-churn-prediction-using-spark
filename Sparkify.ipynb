{
 "cells": [
  {
   "cell_type": "markdown",
   "metadata": {},
   "source": [
    "# Sparkify Project Workspace\n",
    "This workspace contains a tiny subset (128MB) of the full dataset available (12GB). Feel free to use this workspace to build your project, or to explore a smaller subset with Spark before deploying your cluster on the cloud. Instructions for setting up your Spark cluster is included in the last lesson of the Extracurricular Spark Course content.\n",
    "\n",
    "You can follow the steps below to guide your data analysis and model building portion of this project."
   ]
  },
  {
   "cell_type": "code",
   "execution_count": 2,
   "metadata": {},
   "outputs": [],
   "source": [
    "# import libraries\n",
    "import pyspark\n",
    "from pyspark import SparkConf\n",
    "from pyspark.sql import SparkSession\n",
    "\n",
    "from pyspark.sql.window import Window\n",
    "from pyspark.sql.functions import udf, isnan, min, max, sum, count, desc, expr, avg\n",
    "from pyspark.sql.types import IntegerType, LongType\n",
    "\n",
    "from pyspark.ml.feature import StandardScaler, VectorAssembler, MinMaxScaler\n",
    "from pyspark.ml.evaluation import MulticlassClassificationEvaluator\n",
    "from pyspark.ml.tuning import CrossValidator, ParamGridBuilder, CrossValidatorModel\n",
    "from pyspark.ml import Pipeline\n",
    "from pyspark.ml.classification import DecisionTreeClassifier, RandomForestClassifier, \\\n",
    "LogisticRegression, GBTClassifier, LogisticRegressionModel, GBTClassificationModel, \\\n",
    "RandomForestClassificationModel, DecisionTreeModel\n",
    "\n",
    "import matplotlib.pyplot as plt\n",
    "import seaborn as sns\n",
    "import datetime\n",
    "import numpy as np\n",
    "import pandas as pd"
   ]
  },
  {
   "cell_type": "code",
   "execution_count": 3,
   "metadata": {},
   "outputs": [],
   "source": [
    "# create a Spark session\n",
    "spark = SparkSession \\\n",
    "    .builder \\\n",
    "    .appName('Sparkify') \\\n",
    "    .getOrCreate()"
   ]
  },
  {
   "cell_type": "markdown",
   "metadata": {},
   "source": [
    "# Load and Clean Dataset\n",
    "In this workspace, the mini-dataset file is `mini_sparkify_event_data.json`. Load and clean the dataset, checking for invalid or missing data - for example, records without userids or sessionids. "
   ]
  },
  {
   "cell_type": "code",
   "execution_count": 4,
   "metadata": {},
   "outputs": [],
   "source": [
    "#load the data\n",
    "df = spark.read.json('mini_sparkify_event_data.json')\n"
   ]
  },
  {
   "cell_type": "code",
   "execution_count": 5,
   "metadata": {},
   "outputs": [
    {
     "name": "stdout",
     "output_type": "stream",
     "text": [
      "root\n",
      " |-- artist: string (nullable = true)\n",
      " |-- auth: string (nullable = true)\n",
      " |-- firstName: string (nullable = true)\n",
      " |-- gender: string (nullable = true)\n",
      " |-- itemInSession: long (nullable = true)\n",
      " |-- lastName: string (nullable = true)\n",
      " |-- length: double (nullable = true)\n",
      " |-- level: string (nullable = true)\n",
      " |-- location: string (nullable = true)\n",
      " |-- method: string (nullable = true)\n",
      " |-- page: string (nullable = true)\n",
      " |-- registration: long (nullable = true)\n",
      " |-- sessionId: long (nullable = true)\n",
      " |-- song: string (nullable = true)\n",
      " |-- status: long (nullable = true)\n",
      " |-- ts: long (nullable = true)\n",
      " |-- userAgent: string (nullable = true)\n",
      " |-- userId: string (nullable = true)\n",
      "\n"
     ]
    }
   ],
   "source": [
    "# Show all columns and data types\n",
    "df.printSchema()"
   ]
  },
  {
   "cell_type": "markdown",
   "metadata": {},
   "source": [
    "There are three kind of missing values in this data *NULL*, *NAN*, and empty values that that are counted and show below."
   ]
  },
  {
   "cell_type": "code",
   "execution_count": 6,
   "metadata": {},
   "outputs": [
    {
     "name": "stdout",
     "output_type": "stream",
     "text": [
      "artist: 58392 missing values: 0 Nan, 58392 Null, 0 Empty.\n",
      "firstName: 8346 missing values: 0 Nan, 8346 Null, 0 Empty.\n",
      "gender: 8346 missing values: 0 Nan, 8346 Null, 0 Empty.\n",
      "lastName: 8346 missing values: 0 Nan, 8346 Null, 0 Empty.\n",
      "length: 58392 missing values: 0 Nan, 58392 Null, 0 Empty.\n",
      "location: 8346 missing values: 0 Nan, 8346 Null, 0 Empty.\n",
      "registration: 8346 missing values: 0 Nan, 8346 Null, 0 Empty.\n",
      "song: 58392 missing values: 0 Nan, 58392 Null, 0 Empty.\n",
      "userAgent: 8346 missing values: 0 Nan, 8346 Null, 0 Empty.\n",
      "userId: 8346 missing values: 0 Nan, 0 Null, 8346 Empty.\n"
     ]
    }
   ],
   "source": [
    "# Check for different missing values in the columns \n",
    "for column in df.columns:\n",
    "    nan_missings = df.filter(isnan(df[column])).count()\n",
    "    null_missings =  df.filter(df[column].isNull()).count()\n",
    "    empty_missings = df.filter(df[column] == '').count()\n",
    "    total_missings = nan_missings + null_missings + empty_missings\n",
    "    \n",
    "    # If column has missing values, print details\n",
    "    if total_missings > 0:\n",
    "        print(f'{column}: {total_missings} missing values: {nan_missings} Nan, {null_missings} Null, {empty_missings} Empty.')"
   ]
  },
  {
   "cell_type": "markdown",
   "metadata": {},
   "source": [
    "In **userId** there are only empty values that raws with those values must be removed."
   ]
  },
  {
   "cell_type": "code",
   "execution_count": 7,
   "metadata": {},
   "outputs": [
    {
     "data": {
      "text/plain": [
       "278154"
      ]
     },
     "execution_count": 7,
     "metadata": {},
     "output_type": "execute_result"
    }
   ],
   "source": [
    "# Drop rows with missing user id\n",
    "df = df.where(df.userId != '')\n",
    "df.count() # Show number of rows after removal of rows with missing ids"
   ]
  },
  {
   "cell_type": "code",
   "execution_count": 8,
   "metadata": {},
   "outputs": [
    {
     "data": {
      "text/plain": [
       "278154"
      ]
     },
     "execution_count": 8,
     "metadata": {},
     "output_type": "execute_result"
    }
   ],
   "source": [
    "df.dropDuplicates()\n",
    "df.count() # Show number of rows after removal of dupllicates (none!)"
   ]
  },
  {
   "cell_type": "markdown",
   "metadata": {},
   "source": [
    "\n",
    "# Exploratory Data Analysis\n",
    "When you're working with the full dataset, perform EDA by loading a small subset of the data and doing basic manipulations within Spark. In this workspace, you are already provided a small subset of data you can explore.\n",
    "\n",
    "### Define Churn\n",
    "\n",
    "Once you've done some preliminary analysis, create a column `Churn` to use as the label for your model. I suggest using the `Cancellation Confirmation` events to define your churn, which happen for both paid and free users. As a bonus task, you can also look into the `Downgrade` events.\n",
    "\n",
    "### Explore Data\n",
    "Once you've defined churn, perform some exploratory data analysis to observe the behavior for users who stayed vs users who churned. You can start by exploring aggregates on these two groups of users, observing how much of a specific action they experienced per a certain time unit or number of songs played."
   ]
  },
  {
   "cell_type": "code",
   "execution_count": 9,
   "metadata": {},
   "outputs": [],
   "source": [
    "# Add hour, day, weekday columns out of timestamp \"ts\"\n",
    "get_hour = udf(lambda x: datetime.datetime.fromtimestamp(x / 1000.0).hour, IntegerType())\n",
    "get_weekday = udf(lambda x: datetime.datetime.fromtimestamp(x / 1000.0).weekday(), IntegerType())\n",
    "get_month  = udf(lambda x: datetime.datetime.fromtimestamp(x / 1000.0).month, IntegerType())\n",
    "get_year = udf(lambda x: datetime.datetime.fromtimestamp(x / 1000.0).year, IntegerType())\n",
    "# Add columns 'hour', 'day', 'weekday',and year to dataframe\n",
    "df_sub = df.withColumn(\"hour\", get_hour(df.ts))\n",
    "df_sub = df_sub.withColumn(\"weekday\", get_weekday(df.ts))\n",
    "df_sub = df_sub.withColumn(\"month\", get_month(df.ts))\n",
    "df_sub = df_sub.withColumn(\"year\", get_year(df.ts))"
   ]
  },
  {
   "cell_type": "code",
   "execution_count": 10,
   "metadata": {
    "scrolled": true
   },
   "outputs": [
    {
     "name": "stdout",
     "output_type": "stream",
     "text": [
      "Artist:\n",
      "there are 17656 different values\n",
      "+--------------------+\n",
      "|              artist|\n",
      "+--------------------+\n",
      "|                 !!!|\n",
      "|        & And Oceans|\n",
      "|'N Sync/Phil Collins|\n",
      "|        'Til Tuesday|\n",
      "| 't Hof Van Commerce|\n",
      "|'t Hof Van Commer...|\n",
      "|       (Love) Tattoo|\n",
      "|          (hed) p.e.|\n",
      "|*NSYNC featuring ...|\n",
      "|  + / - {Plus/Minus}|\n",
      "+--------------------+\n",
      "only showing top 10 rows\n",
      "\n",
      "Auth:\n",
      "there are 2 different values\n",
      "+---------+\n",
      "|     auth|\n",
      "+---------+\n",
      "|Cancelled|\n",
      "|Logged In|\n",
      "+---------+\n",
      "\n",
      "Firstname:\n",
      "there are 189 different values\n",
      "+----------+\n",
      "| firstName|\n",
      "+----------+\n",
      "|  Adelaida|\n",
      "|    Adrian|\n",
      "|   Adriana|\n",
      "|    Adriel|\n",
      "|   Ainsley|\n",
      "|      Alex|\n",
      "| Alexander|\n",
      "|Alexandria|\n",
      "|     Alexi|\n",
      "|    Alyssa|\n",
      "+----------+\n",
      "only showing top 10 rows\n",
      "\n",
      "Gender:\n",
      "there are 2 different values\n",
      "+------+\n",
      "|gender|\n",
      "+------+\n",
      "|     F|\n",
      "|     M|\n",
      "+------+\n",
      "\n",
      "Iteminsession:\n",
      "there are 1311 different values\n",
      "+-------------+\n",
      "|itemInSession|\n",
      "+-------------+\n",
      "|            0|\n",
      "|            1|\n",
      "|            2|\n",
      "|            3|\n",
      "|            4|\n",
      "|            5|\n",
      "|            6|\n",
      "|            7|\n",
      "|            8|\n",
      "|            9|\n",
      "+-------------+\n",
      "only showing top 10 rows\n",
      "\n",
      "Lastname:\n",
      "there are 173 different values\n",
      "+---------+\n",
      "| lastName|\n",
      "+---------+\n",
      "|    Adams|\n",
      "|  Aguilar|\n",
      "|Alexander|\n",
      "|    Allen|\n",
      "| Atkinson|\n",
      "|   Bailey|\n",
      "|    Baker|\n",
      "|     Ball|\n",
      "|   Barnes|\n",
      "|  Barnett|\n",
      "+---------+\n",
      "only showing top 10 rows\n",
      "\n",
      "Length:\n",
      "there are 14866 different values\n",
      "+--------+\n",
      "|  length|\n",
      "+--------+\n",
      "| 0.78322|\n",
      "| 2.16771|\n",
      "| 4.04853|\n",
      "|  4.8322|\n",
      "|  6.3473|\n",
      "| 7.83628|\n",
      "| 8.30649|\n",
      "| 9.01179|\n",
      "|10.03057|\n",
      "|10.52689|\n",
      "+--------+\n",
      "only showing top 10 rows\n",
      "\n",
      "Level:\n",
      "there are 2 different values\n",
      "+-----+\n",
      "|level|\n",
      "+-----+\n",
      "| free|\n",
      "| paid|\n",
      "+-----+\n",
      "\n",
      "Location:\n",
      "there are 114 different values\n",
      "+--------------------+\n",
      "|            location|\n",
      "+--------------------+\n",
      "|          Albany, OR|\n",
      "|Albany-Schenectad...|\n",
      "|      Alexandria, LA|\n",
      "|Allentown-Bethleh...|\n",
      "|       Anchorage, AK|\n",
      "|Atlanta-Sandy Spr...|\n",
      "|Atlantic City-Ham...|\n",
      "|Austin-Round Rock...|\n",
      "|     Bakersfield, CA|\n",
      "|Baltimore-Columbi...|\n",
      "+--------------------+\n",
      "only showing top 10 rows\n",
      "\n",
      "Method:\n",
      "there are 2 different values\n",
      "+------+\n",
      "|method|\n",
      "+------+\n",
      "|   GET|\n",
      "|   PUT|\n",
      "+------+\n",
      "\n",
      "Page:\n",
      "there are 19 different values\n",
      "+--------------------+\n",
      "|                page|\n",
      "+--------------------+\n",
      "|               About|\n",
      "|          Add Friend|\n",
      "|     Add to Playlist|\n",
      "|              Cancel|\n",
      "|Cancellation Conf...|\n",
      "|           Downgrade|\n",
      "|               Error|\n",
      "|                Help|\n",
      "|                Home|\n",
      "|              Logout|\n",
      "+--------------------+\n",
      "only showing top 10 rows\n",
      "\n",
      "Registration:\n",
      "there are 225 different values\n",
      "+-------------+\n",
      "| registration|\n",
      "+-------------+\n",
      "|1521380675000|\n",
      "|1526739206000|\n",
      "|1526838391000|\n",
      "|1528403713000|\n",
      "|1528560242000|\n",
      "|1528772084000|\n",
      "|1528780738000|\n",
      "|1529027541000|\n",
      "|1529252604000|\n",
      "|1529643103000|\n",
      "+-------------+\n",
      "only showing top 10 rows\n",
      "\n",
      "Sessionid:\n",
      "there are 2312 different values\n",
      "+---------+\n",
      "|sessionId|\n",
      "+---------+\n",
      "|        1|\n",
      "|        2|\n",
      "|        3|\n",
      "|        4|\n",
      "|        5|\n",
      "|        6|\n",
      "|        7|\n",
      "|        8|\n",
      "|        9|\n",
      "|       10|\n",
      "+---------+\n",
      "only showing top 10 rows\n",
      "\n",
      "Song:\n",
      "there are 58481 different values\n",
      "+--------------------+\n",
      "|                song|\n",
      "+--------------------+\n",
      "|\u001c",
      "ÃÂg ÃÂtti Gr...|\n",
      "| I Will Not Reap ...|\n",
      "|              !@*$%#|\n",
      "|#!*@ You Tonight ...|\n",
      "|                  #1|\n",
      "|#1 Fan [Feat. Key...|\n",
      "|           #1 Stunna|\n",
      "|                 #16|\n",
      "| #18 (Album Version)|\n",
      "|#2 For Prepared W...|\n",
      "+--------------------+\n",
      "only showing top 10 rows\n",
      "\n",
      "Status:\n",
      "there are 3 different values\n",
      "+------+\n",
      "|status|\n",
      "+------+\n",
      "|   200|\n",
      "|   307|\n",
      "|   404|\n",
      "+------+\n",
      "\n",
      "Ts:\n",
      "there are 269770 different values\n",
      "+-------------+\n",
      "|           ts|\n",
      "+-------------+\n",
      "|1538352117000|\n",
      "|1538352180000|\n",
      "|1538352394000|\n",
      "|1538352416000|\n",
      "|1538352676000|\n",
      "|1538352678000|\n",
      "|1538352886000|\n",
      "|1538352899000|\n",
      "|1538352905000|\n",
      "|1538353084000|\n",
      "+-------------+\n",
      "only showing top 10 rows\n",
      "\n",
      "Useragent:\n",
      "there are 56 different values\n",
      "+--------------------+\n",
      "|           userAgent|\n",
      "+--------------------+\n",
      "|\"Mozilla/5.0 (Mac...|\n",
      "|\"Mozilla/5.0 (Mac...|\n",
      "|\"Mozilla/5.0 (Mac...|\n",
      "|\"Mozilla/5.0 (Mac...|\n",
      "|\"Mozilla/5.0 (Mac...|\n",
      "|\"Mozilla/5.0 (Mac...|\n",
      "|\"Mozilla/5.0 (Mac...|\n",
      "|\"Mozilla/5.0 (Mac...|\n",
      "|\"Mozilla/5.0 (Mac...|\n",
      "|\"Mozilla/5.0 (Mac...|\n",
      "+--------------------+\n",
      "only showing top 10 rows\n",
      "\n",
      "Userid:\n",
      "there are 225 different values\n",
      "+------+\n",
      "|userId|\n",
      "+------+\n",
      "|    10|\n",
      "|   100|\n",
      "|100001|\n",
      "|100002|\n",
      "|100003|\n",
      "|100004|\n",
      "|100005|\n",
      "|100006|\n",
      "|100007|\n",
      "|100008|\n",
      "+------+\n",
      "only showing top 10 rows\n",
      "\n",
      "Hour:\n",
      "there are 24 different values\n",
      "+----+\n",
      "|hour|\n",
      "+----+\n",
      "|   0|\n",
      "|   1|\n",
      "|   2|\n",
      "|   3|\n",
      "|   4|\n",
      "|   5|\n",
      "|   6|\n",
      "|   7|\n",
      "|   8|\n",
      "|   9|\n",
      "+----+\n",
      "only showing top 10 rows\n",
      "\n",
      "Weekday:\n",
      "there are 7 different values\n",
      "+-------+\n",
      "|weekday|\n",
      "+-------+\n",
      "|      0|\n",
      "|      1|\n",
      "|      2|\n",
      "|      3|\n",
      "|      4|\n",
      "|      5|\n",
      "|      6|\n",
      "+-------+\n",
      "\n",
      "Month:\n",
      "there are 3 different values\n",
      "+-----+\n",
      "|month|\n",
      "+-----+\n",
      "|   10|\n",
      "|   11|\n",
      "|   12|\n",
      "+-----+\n",
      "\n",
      "Year:\n",
      "there are 1 different values\n",
      "+----+\n",
      "|year|\n",
      "+----+\n",
      "|2018|\n",
      "+----+\n",
      "\n"
     ]
    }
   ],
   "source": [
    "# Explore unique values in different columns\n",
    "for column in df_sub.columns:\n",
    "    print(f'{column.title()}:')\n",
    "    print(f'there are {df_sub.select(column).dropDuplicates().count()} different values')\n",
    "    df_sub.select(column).where(df_sub.userId != '').where(df_sub.userId != 'null').dropna().dropDuplicates().sort(column).show(10)"
   ]
  },
  {
   "cell_type": "markdown",
   "metadata": {},
   "source": [
    "*As we can see, there are 225 different users in this study.*"
   ]
  },
  {
   "cell_type": "code",
   "execution_count": 11,
   "metadata": {},
   "outputs": [
    {
     "data": {
      "text/plain": [
       "<matplotlib.axes._subplots.AxesSubplot at 0x7f2acace2668>"
      ]
     },
     "execution_count": 11,
     "metadata": {},
     "output_type": "execute_result"
    },
    {
     "data": {
      "image/png": "[encoded data removed]",
      "text/plain": [
       "<matplotlib.figure.Figure at 0x7f2b00382400>"
      ]
     },
     "metadata": {
      "needs_background": "light"
     },
     "output_type": "display_data"
    }
   ],
   "source": [
    "# Create histogram of length of sessions\n",
    "length = df.select(['userId','length']).groupby('userId').agg(sum('length').alias('length')).sort('length',ascending=False).toPandas()\n",
    "length.plot(kind='hist',figsize=(10,5),title='Length of song played by all users')\n"
   ]
  },
  {
   "cell_type": "code",
   "execution_count": 12,
   "metadata": {},
   "outputs": [
    {
     "data": {
      "image/png": "[encoded data removed]",
      "text/plain": [
       "<matplotlib.figure.Figure at 0x7f2ac8ba8780>"
      ]
     },
     "metadata": {
      "needs_background": "light"
     },
     "output_type": "display_data"
    }
   ],
   "source": [
    "# User distribution per hour of the day\n",
    "users_per_hour_pd = df_sub.select(['userId','hour']).dropDuplicates().groupby(['hour']).count().sort('hour').toPandas()\n",
    "\n",
    "# Plot\n",
    "ax = users_per_hour_pd.plot(x='hour', kind='bar', figsize=(10,5))\n",
    "ax.get_legend().remove()\n",
    "plt.xlabel('\\nHour', fontsize=14)\n",
    "plt.ylabel('number of Users', fontsize=14)\n",
    "plt.title('Users per hour', fontsize=14)\n",
    "plt.show()"
   ]
  },
  {
   "cell_type": "code",
   "execution_count": 13,
   "metadata": {},
   "outputs": [
    {
     "data": {
      "image/png": "[encoded data removed]",
      "text/plain": [
       "<matplotlib.figure.Figure at 0x7f2ac8b25b38>"
      ]
     },
     "metadata": {
      "needs_background": "light"
     },
     "output_type": "display_data"
    }
   ],
   "source": [
    "# User distribution per hour of the day\n",
    "users_per_month_pd = df_sub.select(['userId','month']).dropDuplicates().groupby(['month']).count().sort('month').toPandas()\n",
    "\n",
    "# Plot\n",
    "ax = users_per_month_pd.plot(x='month', kind='bar', figsize=(10,5))\n",
    "ax.get_legend().remove()\n",
    "plt.xlabel('\\nMonth', fontsize=14)\n",
    "plt.ylabel('number of Users', fontsize=14)\n",
    "plt.title('Users per month', fontsize=14)\n",
    "plt.show()"
   ]
  },
  {
   "cell_type": "code",
   "execution_count": 14,
   "metadata": {},
   "outputs": [
    {
     "data": {
      "image/png": "[encoded data removed]",
      "text/plain": [
       "<matplotlib.figure.Figure at 0x7f2ac8c5ad68>"
      ]
     },
     "metadata": {
      "needs_background": "light"
     },
     "output_type": "display_data"
    }
   ],
   "source": [
    "# User distribution per hour of the day\n",
    "users_per_weekday_pd = df_sub.select(['userId','weekday']).dropDuplicates().groupby(['weekday']).count().sort('weekday').toPandas()\n",
    "\n",
    "# Plot\n",
    "ax = users_per_weekday_pd.plot(x='weekday', kind='bar', figsize=(10,5))\n",
    "ax.get_legend().remove()\n",
    "plt.xlabel('\\nWeekday', fontsize=14)\n",
    "plt.ylabel('number of Users', fontsize=14)\n",
    "plt.title('Users per weekday', fontsize=14)\n",
    "plt.show()"
   ]
  },
  {
   "cell_type": "code",
   "execution_count": 15,
   "metadata": {},
   "outputs": [
    {
     "data": {
      "image/png": "[encoded data removed]",
      "text/plain": [
       "<matplotlib.figure.Figure at 0x7f2ac8a2c860>"
      ]
     },
     "metadata": {
      "needs_background": "light"
     },
     "output_type": "display_data"
    }
   ],
   "source": [
    "# User distribution per levels which contains free and paide users\n",
    "users_per_hour_pd = df_sub.select(['userId','level']).dropDuplicates().groupby(['level']).count().sort('level').toPandas()\n",
    "\n",
    "# Plot\n",
    "ax = users_per_hour_pd.plot(x='level', kind='bar', figsize=(10,5))\n",
    "ax.get_legend().remove()\n",
    "plt.xlabel('\\nLevels', fontsize=14)\n",
    "plt.ylabel('number of Users', fontsize=14)\n",
    "plt.title('different levels', fontsize=14)\n",
    "plt.show()"
   ]
  },
  {
   "cell_type": "markdown",
   "metadata": {},
   "source": [
    "***Adding churn flags to the data***"
   ]
  },
  {
   "cell_type": "code",
   "execution_count": 16,
   "metadata": {},
   "outputs": [],
   "source": [
    "#define churn and downgraded users \n",
    "add_flag_churn_cancel_event=udf(lambda x: 1 if x==\"Cancellation Confirmation\" else 0, IntegerType())\n",
    "add_flag_downgrade_event = udf(lambda x: 1 if x == \"Submit Downgrade\" else 0, IntegerType())\n",
    "add_flag_churn_flags = udf(lambda x,y : x+y, IntegerType())\n"
   ]
  },
  {
   "cell_type": "code",
   "execution_count": 17,
   "metadata": {},
   "outputs": [],
   "source": [
    "#add churn and downgrade columns to the data\n",
    "df_sub = df.withColumn(\"churn_cancel\", add_flag_churn_cancel_event(\"page\"))\n",
    "df_sub = df_sub.withColumn(\"churn_down\", add_flag_downgrade_event (\"page\"))\n",
    "df_sub = df_sub.withColumn(\"churned\", add_flag_churn_flags (\"churn_cancel\",\"churn_down\"))"
   ]
  },
  {
   "cell_type": "code",
   "execution_count": 18,
   "metadata": {},
   "outputs": [
    {
     "name": "stdout",
     "output_type": "stream",
     "text": [
      "+-----+-----+\n",
      "|level|count|\n",
      "+-----+-----+\n",
      "| free|   21|\n",
      "| paid|   31|\n",
      "+-----+-----+\n",
      "\n"
     ]
    }
   ],
   "source": [
    "users_per_hour_pd = df_sub.where(df_sub.churn_cancel==1).select(['userId','level']).dropDuplicates().groupby(['level']).count().sort('level').show()\n"
   ]
  },
  {
   "cell_type": "code",
   "execution_count": 19,
   "metadata": {},
   "outputs": [
    {
     "data": {
      "image/png": "[encoded data removed]",
      "text/plain": [
       "<matplotlib.figure.Figure at 0x7f2acace2828>"
      ]
     },
     "metadata": {
      "needs_background": "light"
     },
     "output_type": "display_data"
    }
   ],
   "source": [
    "###### User distribution for churned users of the day\n",
    "users_per_hour_pd = df_sub.where(df_sub.churn_cancel==1).select(['userId','level']).dropDuplicates().groupby(['level']).count().sort('level').toPandas()\n",
    "#users_per_hour_pd =users_per_hour_pd[users_per_hour_pd['churned'] ==1][['level','count']]\n",
    "# Plot\n",
    "ax = users_per_hour_pd.plot(x='level', kind='bar', figsize=(10,5))\n",
    "ax.get_legend().remove()\n",
    "plt.xlabel('\\nLevel', fontsize=14)\n",
    "plt.ylabel('number of Users', fontsize=14)\n",
    "plt.title('different levels for the churned users', fontsize=14)\n",
    "plt.show()"
   ]
  },
  {
   "cell_type": "code",
   "execution_count": 20,
   "metadata": {},
   "outputs": [
    {
     "data": {
      "text/plain": [
       "<matplotlib.axes._subplots.AxesSubplot at 0x7f2ac89424e0>"
      ]
     },
     "execution_count": 20,
     "metadata": {},
     "output_type": "execute_result"
    },
    {
     "data": {
      "image/png": "[encoded data removed]",
      "text/plain": [
       "<matplotlib.figure.Figure at 0x7f2ac8943358>"
      ]
     },
     "metadata": {
      "needs_background": "light"
     },
     "output_type": "display_data"
    }
   ],
   "source": [
    "# User distribution for churned users of the day\n",
    "churned_users = df_sub.where(df_sub.churn_cancel == 1).select(\"userId\").collect()\n",
    "churned_users_array = [row.userId for row in churned_users]\n",
    "length = df.filter(df['userId'].isin(churned_users_array)).select(['userId','length']).groupby('userId').agg(sum('length').alias('length')).sort('length',ascending=False).toPandas()\n",
    "length.plot(kind='hist',figsize=(10,5),title='Lengthof song played by the churned users')\n"
   ]
  },
  {
   "cell_type": "code",
   "execution_count": 21,
   "metadata": {},
   "outputs": [
    {
     "name": "stdout",
     "output_type": "stream",
     "text": [
      "Churner per device\n",
      "+---------+-----+\n",
      "|   Device|count|\n",
      "+---------+-----+\n",
      "|      X11|    5|\n",
      "|   iPhone|    4|\n",
      "|Macintosh|   19|\n",
      "|  Windows|   24|\n",
      "+---------+-----+\n",
      "\n"
     ]
    }
   ],
   "source": [
    "# Churn per device\n",
    "get_device = udf(lambda x: x.split('(')[1].replace(';', \" \").split(\" \")[0])\n",
    "df_devices = df.withColumn('Device', get_device('userAgent'))\n",
    "\n",
    "print('Churner per device')\n",
    "df_devices.filter(df.page == 'Cancellation Confirmation').select(['userId', 'Device']).drop_duplicates().groupby('Device').count().show()\n"
   ]
  },
  {
   "cell_type": "markdown",
   "metadata": {},
   "source": [
    "As we can see there is only one browser in the suser agens so there is no need to onsider that as a feature."
   ]
  },
  {
   "cell_type": "markdown",
   "metadata": {},
   "source": [
    "# Feature Engineering\n",
    "Once you've familiarized yourself with the data, build out the features you find promising to train your model on. To work with the full dataset, you can follow the following steps.\n",
    "- Write a script to extract the necessary features from the smaller subset of data\n",
    "- Ensure that your script is scalable, using the best practices discussed in Lesson 3\n",
    "- Try your script on the full data set, debugging your script if necessary\n",
    "\n",
    "If you are working in the classroom workspace, you can just extract features based on the small subset of data contained here. Be sure to transfer over this work to the larger dataset when you work on your Spark cluster."
   ]
  },
  {
   "cell_type": "markdown",
   "metadata": {},
   "source": [
    "**Session duration**"
   ]
  },
  {
   "cell_type": "code",
   "execution_count": 22,
   "metadata": {},
   "outputs": [
    {
     "name": "stdout",
     "output_type": "stream",
     "text": [
      "+------+--------------------+\n",
      "|userId|avg_session_duration|\n",
      "+------+--------------------+\n",
      "|    92|     112317273376000|\n",
      "|    42|      32312393582000|\n",
      "|   101|    1315986300084000|\n",
      "|   120|     401733634418000|\n",
      "|   140|       9236549131000|\n",
      "+------+--------------------+\n",
      "only showing top 5 rows\n",
      "\n"
     ]
    }
   ],
   "source": [
    "# Create Feature\n",
    "session_duration = df.select(['userId','sessionId','ts']).groupby(['userId','sessionId']).agg(sum('ts').alias('avg_session_duration'))\n",
    "session_duration = session_duration.drop('sessionId')\n",
    "session_duration.show(5)\n"
   ]
  },
  {
   "cell_type": "markdown",
   "metadata": {},
   "source": [
    "**Churned flag in features**"
   ]
  },
  {
   "cell_type": "code",
   "execution_count": 28,
   "metadata": {},
   "outputs": [
    {
     "name": "stdout",
     "output_type": "stream",
     "text": [
      "Number of rows: 225\n",
      "+------+-----+\n",
      "|userId|churn|\n",
      "+------+-----+\n",
      "|100010|    0|\n",
      "|200002|    0|\n",
      "|   125|    1|\n",
      "|    51|    1|\n",
      "|   124|    0|\n",
      "+------+-----+\n",
      "only showing top 5 rows\n",
      "\n"
     ]
    }
   ],
   "source": [
    "# User definded function\n",
    "get_churn = udf(lambda x: 1 if x == 'Cancellation Confirmation' else 0, IntegerType())\n",
    "\n",
    "# Create feature\n",
    "churn = df.withColumn('churn', get_churn('page')).select(['userId','churn']).groupby('userId').agg(max('churn').alias('churn'))\n",
    "# Validation\n",
    "print('Number of rows: ' + str(churn.count()))\n",
    "churn.show(5)"
   ]
  },
  {
   "cell_type": "code",
   "execution_count": 29,
   "metadata": {},
   "outputs": [
    {
     "name": "stdout",
     "output_type": "stream",
     "text": [
      "Number of rows: 225\n",
      "+------+------+\n",
      "|userId|gender|\n",
      "+------+------+\n",
      "|100010|     0|\n",
      "|200002|     1|\n",
      "|   125|     1|\n",
      "|    51|     1|\n",
      "|   124|     0|\n",
      "+------+------+\n",
      "only showing top 5 rows\n",
      "\n"
     ]
    }
   ],
   "source": [
    "# User definded function\n",
    "get_gender = udf(lambda x: 1 if x == 'M' else 0, IntegerType())\n",
    "\n",
    "# Create feature\n",
    "gender = df.withColumn('gender', get_gender('gender')).select(['userId','gender']).groupby('userId').agg(max('gender').alias('gender'))\n",
    "\n",
    "# Validation\n",
    "print('Number of rows: ' + str(gender.count()))\n",
    "gender.show(5)"
   ]
  },
  {
   "cell_type": "code",
   "execution_count": 30,
   "metadata": {},
   "outputs": [
    {
     "name": "stdout",
     "output_type": "stream",
     "text": [
      "Number of rows: 225\n",
      "+------+------------------+\n",
      "|userId|            length|\n",
      "+------+------------------+\n",
      "|100010| 66940.89735000003|\n",
      "|200002| 94008.87593999993|\n",
      "|   125|2089.1131000000005|\n",
      "|    51| 523275.8428000004|\n",
      "|   124|1012312.0927899999|\n",
      "+------+------------------+\n",
      "only showing top 5 rows\n",
      "\n"
     ]
    }
   ],
   "source": [
    "# Create feature\n",
    "length = df.select(['userId','length']).groupby('userId').agg(sum('length').alias('length'))\n",
    "\n",
    "# Validation\n",
    "print('Number of rows: ' + str(length.count()))\n",
    "length.show(5)"
   ]
  },
  {
   "cell_type": "code",
   "execution_count": 31,
   "metadata": {},
   "outputs": [
    {
     "name": "stdout",
     "output_type": "stream",
     "text": [
      "Number of rows: 225\n",
      "+------+-----+\n",
      "|userId|level|\n",
      "+------+-----+\n",
      "|100010|    0|\n",
      "|200002|    1|\n",
      "|   125|    0|\n",
      "|   124|    1|\n",
      "|    51|    1|\n",
      "+------+-----+\n",
      "only showing top 5 rows\n",
      "\n"
     ]
    }
   ],
   "source": [
    "# User definded function\n",
    "get_level = udf(lambda x: 1 if x == 'paid' else 0, IntegerType())\n",
    "\n",
    "# Create feature\n",
    "level = df.select(['userId', 'level', 'ts']).orderBy(desc('ts')).dropDuplicates(['userId']).select(['userId', 'level'])\\\n",
    "        .withColumn('level', get_level('level').cast(IntegerType()))\n",
    "\n",
    "# Validation\n",
    "print('Number of rows: ' + str(level.count()))\n",
    "level.show(5)"
   ]
  },
  {
   "cell_type": "code",
   "execution_count": 32,
   "metadata": {},
   "outputs": [
    {
     "name": "stdout",
     "output_type": "stream",
     "text": [
      "Number of rows: 225\n",
      "+------+---+---+---+---+---+---+---+---+---+---+---+---+---+---+---+---+---+---+---+---+---+---+---+---+---+---+---+---+---+---+---+---+---+---+---+---+---+---+---+---+---+\n",
      "|userId| AK| AL| AR| AZ| CA| CO| CT| DC| FL| GA| IA| IL| IN| KY| LA| MA| MD| MI| MN| MO| MS| MT| NC| NE| NH| NJ| NV| NY| OH| OK| OR| PA| RI| SC| TN| TX| UT| VA| WA| WI| WV|\n",
      "+------+---+---+---+---+---+---+---+---+---+---+---+---+---+---+---+---+---+---+---+---+---+---+---+---+---+---+---+---+---+---+---+---+---+---+---+---+---+---+---+---+---+\n",
      "|100010|  0|  0|  0|  0|  0|  0|  1|  0|  0|  0|  0|  0|  0|  0|  0|  0|  0|  0|  0|  0|  0|  0|  0|  0|  0|  0|  0|  0|  0|  0|  0|  0|  0|  0|  0|  0|  0|  0|  0|  0|  0|\n",
      "|200002|  0|  0|  0|  0|  0|  0|  0|  0|  0|  0|  0|  1|  0|  0|  0|  0|  0|  0|  0|  0|  0|  0|  0|  0|  0|  0|  0|  0|  0|  0|  0|  0|  0|  0|  0|  0|  0|  0|  0|  0|  0|\n",
      "|   125|  0|  0|  0|  0|  0|  0|  0|  0|  0|  0|  0|  0|  0|  0|  0|  0|  0|  0|  0|  0|  0|  0|  0|  0|  0|  0|  0|  0|  0|  0|  0|  0|  0|  0|  0|  1|  0|  0|  0|  0|  0|\n",
      "|   124|  0|  0|  0|  0|  0|  0|  0|  0|  0|  0|  0|  0|  0|  0|  0|  0|  0|  0|  0|  0|  0|  0|  0|  0|  0|  1|  0|  0|  0|  0|  0|  0|  0|  0|  0|  0|  0|  0|  0|  0|  0|\n",
      "|    51|  0|  0|  0|  0|  0|  0|  0|  0|  0|  0|  0|  0|  0|  1|  0|  0|  0|  0|  0|  0|  0|  0|  0|  0|  0|  0|  0|  0|  0|  0|  0|  0|  0|  0|  0|  0|  0|  0|  0|  0|  0|\n",
      "+------+---+---+---+---+---+---+---+---+---+---+---+---+---+---+---+---+---+---+---+---+---+---+---+---+---+---+---+---+---+---+---+---+---+---+---+---+---+---+---+---+---+\n",
      "only showing top 5 rows\n",
      "\n"
     ]
    }
   ],
   "source": [
    "# User definded function\n",
    "get_location = udf(lambda x: x.split(', ')[1].split('-')[0])\n",
    "get_location_name = udf(lambda x: \"location_\"+x.replace(\" \", \"_\").lower())\n",
    "\n",
    "# Create feature\n",
    "location = df.withColumn('location', get_location(df['location'])).select(['userId', 'location']).dropDuplicates(['userId'])\\\n",
    "           .groupBy('userId').pivot('location').agg(count('location')).fillna(0)\n",
    "\n",
    "# Validation\n",
    "print('Number of rows: ' + str(location.count()))\n",
    "location.show(5)"
   ]
  },
  {
   "cell_type": "markdown",
   "metadata": {},
   "source": [
    "**Users OS as a feature**"
   ]
  },
  {
   "cell_type": "code",
   "execution_count": 33,
   "metadata": {},
   "outputs": [
    {
     "name": "stdout",
     "output_type": "stream",
     "text": [
      "Number of rows: 225\n",
      "+------+---------+-------+---+----------+----+------+\n",
      "|userId|Macintosh|Windows|X11|compatible|iPad|iPhone|\n",
      "+------+---------+-------+---+----------+----+------+\n",
      "|100010|        0|      0|  0|         0|   0|     1|\n",
      "|200002|        0|      0|  0|         0|   0|     1|\n",
      "|   125|        1|      0|  0|         0|   0|     0|\n",
      "|   124|        1|      0|  0|         0|   0|     0|\n",
      "|    51|        0|      1|  0|         0|   0|     0|\n",
      "+------+---------+-------+---+----------+----+------+\n",
      "only showing top 5 rows\n",
      "\n"
     ]
    }
   ],
   "source": [
    "# User definded function\n",
    "get_agent = udf(lambda x: x.split('(')[1].replace(\";\", \" \").split(\" \")[0])\n",
    "\n",
    "# Create feature\n",
    "userAgent = df.withColumn('userAgent', get_agent(df['userAgent'])).select(['userId', 'userAgent']).dropDuplicates(['userId'])\\\n",
    "            .groupBy('userId').pivot('userAgent').agg(count('userAgent')).fillna(0)\n",
    "\n",
    "# Validation\n",
    "print('Number of rows: ' + str(userAgent.count()))\n",
    "userAgent.show(5)"
   ]
  },
  {
   "cell_type": "markdown",
   "metadata": {},
   "source": [
    "**Number of songs played by a user as a feature**. "
   ]
  },
  {
   "cell_type": "code",
   "execution_count": 34,
   "metadata": {},
   "outputs": [
    {
     "name": "stdout",
     "output_type": "stream",
     "text": [
      "Number of rows: 225\n",
      "+------+-----+\n",
      "|userId|songs|\n",
      "+------+-----+\n",
      "|100010|  275|\n",
      "|200002|  387|\n",
      "|   125|    8|\n",
      "|    51| 2111|\n",
      "|   124| 4079|\n",
      "+------+-----+\n",
      "only showing top 5 rows\n",
      "\n"
     ]
    }
   ],
   "source": [
    "# Create feature\n",
    "songs = df.select(['userId','song']).groupby('userId').agg(count('song').alias('songs'))\n",
    "\n",
    "# Validation\n",
    "print('Number of rows: ' + str(songs.count()))\n",
    "songs.show(5)"
   ]
  },
  {
   "cell_type": "code",
   "execution_count": 35,
   "metadata": {},
   "outputs": [
    {
     "name": "stdout",
     "output_type": "stream",
     "text": [
      "Number of rows: 225\n",
      "+------+------------------+\n",
      "|userId|            length|\n",
      "+------+------------------+\n",
      "|100010|  243.421444909091|\n",
      "|200002|242.91699209302305|\n",
      "|   125|261.13913750000006|\n",
      "|    51|247.88055082899118|\n",
      "|   124|248.17653659965674|\n",
      "+------+------------------+\n",
      "only showing top 5 rows\n",
      "\n"
     ]
    }
   ],
   "source": [
    "# Create feature\n",
    "length = df.select(['userId','length']).groupby('userId').agg(avg('length').alias('length'))\n",
    "\n",
    "# Validation\n",
    "print('Number of rows: ' + str(length.count()))\n",
    "length.show(5)"
   ]
  },
  {
   "cell_type": "code",
   "execution_count": 36,
   "metadata": {},
   "outputs": [
    {
     "name": "stdout",
     "output_type": "stream",
     "text": [
      "Number of rows: 225\n",
      "+------+-----+\n",
      "|userId|level|\n",
      "+------+-----+\n",
      "|100010|    0|\n",
      "|200002|    1|\n",
      "|   125|    0|\n",
      "|   124|    1|\n",
      "|    51|    1|\n",
      "+------+-----+\n",
      "only showing top 5 rows\n",
      "\n"
     ]
    }
   ],
   "source": [
    "# User definded function\n",
    "get_level = udf(lambda x: 1 if x == 'paid' else 0, IntegerType())\n",
    "\n",
    "# Create feature\n",
    "level = df.select(['userId', 'level', 'ts']).orderBy(desc('ts')).dropDuplicates(['userId']).select(['userId', 'level'])\\\n",
    "        .withColumn('level', get_level('level').cast(IntegerType()))\n",
    "\n",
    "# Validation\n",
    "print('Number of rows: ' + str(level.count()))\n",
    "level.show(5)"
   ]
  },
  {
   "cell_type": "code",
   "execution_count": 37,
   "metadata": {},
   "outputs": [
    {
     "name": "stdout",
     "output_type": "stream",
     "text": [
      "Number of rows: 225\n",
      "+------+----------+---------------+--------------------+--------------+----------+---------+---------+-----------+-------------+----------------+------------------+-------------+---------------------+-------------------+----------------+--------------+------------+\n",
      "|userId|page_about|page_add_friend|page_add_to_playlist|page_downgrade|page_error|page_help|page_home|page_logout|page_nextsong|page_roll_advert|page_save_settings|page_settings|page_submit_downgrade|page_submit_upgrade|page_thumbs_down|page_thumbs_up|page_upgrade|\n",
      "+------+----------+---------------+--------------------+--------------+----------+---------+---------+-----------+-------------+----------------+------------------+-------------+---------------------+-------------------+----------------+--------------+------------+\n",
      "|200002|         3|              4|                   8|             5|         0|        2|       20|          5|          387|               7|                 0|            3|                    0|                  1|               6|            21|           2|\n",
      "|100010|         1|              4|                   7|             0|         0|        2|       11|          5|          275|              52|                 0|            0|                    0|                  0|               5|            17|           2|\n",
      "|   125|         0|              0|                   0|             0|         0|        0|        0|          0|            8|               1|                 0|            0|                    0|                  0|               0|             0|           0|\n",
      "|     7|         0|              1|                   5|             0|         1|        1|       10|          3|          150|              16|                 1|            3|                    0|                  0|               1|             7|           2|\n",
      "|   124|         7|             74|                 118|            41|         6|       23|      176|         59|         4079|               4|                 6|           20|                    0|                  0|              41|           171|           0|\n",
      "+------+----------+---------------+--------------------+--------------+----------+---------+---------+-----------+-------------+----------------+------------------+-------------+---------------------+-------------------+----------------+--------------+------------+\n",
      "only showing top 5 rows\n",
      "\n"
     ]
    }
   ],
   "source": [
    "# User definded function\n",
    "get_page = udf(lambda x: 'page_' + x.replace(' ', '_').lower())\n",
    "exclude_page = ['Cancel', 'Cancellation Confirmation']\n",
    "\n",
    "# Create feature\n",
    "page = df.filter(~df['page'].isin(exclude_page)).withColumn('page', get_page(df['page']))\\\n",
    "                 .groupBy(['userId']).pivot('page').agg(count('page')).fillna(0)\n",
    "\n",
    "# Validation\n",
    "print('Number of rows: ' + str(page.count()))\n",
    "page.show(5)"
   ]
  },
  {
   "cell_type": "code",
   "execution_count": 38,
   "metadata": {},
   "outputs": [
    {
     "name": "stdout",
     "output_type": "stream",
     "text": [
      "Number of rows: 225\n",
      "+------+--------------+\n",
      "|userId|time_since_reg|\n",
      "+------+--------------+\n",
      "|100010|    4807612000|\n",
      "|200002|    6054448000|\n",
      "|   125|    6161779000|\n",
      "|   124|   11366431000|\n",
      "|    51|    1680985000|\n",
      "+------+--------------+\n",
      "only showing top 5 rows\n",
      "\n"
     ]
    }
   ],
   "source": [
    "# Create feature\n",
    "df_reg_ts = df.select(['userId','registration']).groupby('userId').agg(min('registration').alias('reg_ts'))\n",
    "df_max_ts = df.select(['userId','ts']).groupby('userId').agg(max('ts').alias('max_ts'))\n",
    "time_since_reg = df_max_ts.join(df_reg_ts, on=['userId'])\n",
    "\n",
    "# Calculate Delta\n",
    "time_since_reg = time_since_reg.withColumn('time_since_reg', expr('max_ts - reg_ts'))\n",
    "time_since_reg = time_since_reg.drop('max_ts')\n",
    "time_since_reg = time_since_reg.drop('reg_ts')\n",
    "\n",
    "# Validation\n",
    "print('Number of rows: ' + str(time_since_reg.count()))\n",
    "time_since_reg.show(5)"
   ]
  },
  {
   "cell_type": "code",
   "execution_count": 39,
   "metadata": {},
   "outputs": [
    {
     "name": "stdout",
     "output_type": "stream",
     "text": [
      "Number of rows: 225\n",
      "+------+---------+-------+---+----------+----+------+\n",
      "|userId|Macintosh|Windows|X11|compatible|iPad|iPhone|\n",
      "+------+---------+-------+---+----------+----+------+\n",
      "|100010|        0|      0|  0|         0|   0|     1|\n",
      "|200002|        0|      0|  0|         0|   0|     1|\n",
      "|   125|        1|      0|  0|         0|   0|     0|\n",
      "|   124|        1|      0|  0|         0|   0|     0|\n",
      "|    51|        0|      1|  0|         0|   0|     0|\n",
      "+------+---------+-------+---+----------+----+------+\n",
      "only showing top 5 rows\n",
      "\n"
     ]
    }
   ],
   "source": [
    "# User definded function\n",
    "get_agent = udf(lambda x: x.split('(')[1].replace(\";\", \" \").split(\" \")[0])\n",
    "\n",
    "# Create feature\n",
    "userAgent = df.withColumn('userAgent', get_agent(df['userAgent'])).select(['userId', 'userAgent']).dropDuplicates(['userId'])\\\n",
    "            .groupBy('userId').pivot('userAgent').agg(count('userAgent')).fillna(0)\n",
    "\n",
    "# Validation\n",
    "print('Number of rows: ' + str(userAgent.count()))\n",
    "userAgent.show(5)"
   ]
  },
  {
   "cell_type": "code",
   "execution_count": 40,
   "metadata": {},
   "outputs": [],
   "source": [
    "#joining all the features\n",
    "df = churn.join(session_duration, ['userId'])\\\n",
    "          .join(gender, ['userId'])\\\n",
    "          .join(length, ['userId'])\\\n",
    "          .join(level, ['userId'])\\\n",
    "          .join(location, ['userId'])\\\n",
    "          .join(page, ['userId'])\\\n",
    "          .join(time_since_reg, ['userId'])\\\n",
    "          .join(songs, ['userId'])\\\n",
    "          .join(userAgent, ['userId'])"
   ]
  },
  {
   "cell_type": "code",
   "execution_count": 41,
   "metadata": {},
   "outputs": [
    {
     "name": "stdout",
     "output_type": "stream",
     "text": [
      "root\n",
      " |-- userId: string (nullable = true)\n",
      " |-- churn: integer (nullable = true)\n",
      " |-- avg_session_duration: long (nullable = true)\n",
      " |-- gender: integer (nullable = true)\n",
      " |-- length: double (nullable = true)\n",
      " |-- level: integer (nullable = true)\n",
      " |-- AK: long (nullable = true)\n",
      " |-- AL: long (nullable = true)\n",
      " |-- AR: long (nullable = true)\n",
      " |-- AZ: long (nullable = true)\n",
      " |-- CA: long (nullable = true)\n",
      " |-- CO: long (nullable = true)\n",
      " |-- CT: long (nullable = true)\n",
      " |-- DC: long (nullable = true)\n",
      " |-- FL: long (nullable = true)\n",
      " |-- GA: long (nullable = true)\n",
      " |-- IA: long (nullable = true)\n",
      " |-- IL: long (nullable = true)\n",
      " |-- IN: long (nullable = true)\n",
      " |-- KY: long (nullable = true)\n",
      " |-- LA: long (nullable = true)\n",
      " |-- MA: long (nullable = true)\n",
      " |-- MD: long (nullable = true)\n",
      " |-- MI: long (nullable = true)\n",
      " |-- MN: long (nullable = true)\n",
      " |-- MO: long (nullable = true)\n",
      " |-- MS: long (nullable = true)\n",
      " |-- MT: long (nullable = true)\n",
      " |-- NC: long (nullable = true)\n",
      " |-- NE: long (nullable = true)\n",
      " |-- NH: long (nullable = true)\n",
      " |-- NJ: long (nullable = true)\n",
      " |-- NV: long (nullable = true)\n",
      " |-- NY: long (nullable = true)\n",
      " |-- OH: long (nullable = true)\n",
      " |-- OK: long (nullable = true)\n",
      " |-- OR: long (nullable = true)\n",
      " |-- PA: long (nullable = true)\n",
      " |-- RI: long (nullable = true)\n",
      " |-- SC: long (nullable = true)\n",
      " |-- TN: long (nullable = true)\n",
      " |-- TX: long (nullable = true)\n",
      " |-- UT: long (nullable = true)\n",
      " |-- VA: long (nullable = true)\n",
      " |-- WA: long (nullable = true)\n",
      " |-- WI: long (nullable = true)\n",
      " |-- WV: long (nullable = true)\n",
      " |-- page_about: long (nullable = true)\n",
      " |-- page_add_friend: long (nullable = true)\n",
      " |-- page_add_to_playlist: long (nullable = true)\n",
      " |-- page_downgrade: long (nullable = true)\n",
      " |-- page_error: long (nullable = true)\n",
      " |-- page_help: long (nullable = true)\n",
      " |-- page_home: long (nullable = true)\n",
      " |-- page_logout: long (nullable = true)\n",
      " |-- page_nextsong: long (nullable = true)\n",
      " |-- page_roll_advert: long (nullable = true)\n",
      " |-- page_save_settings: long (nullable = true)\n",
      " |-- page_settings: long (nullable = true)\n",
      " |-- page_submit_downgrade: long (nullable = true)\n",
      " |-- page_submit_upgrade: long (nullable = true)\n",
      " |-- page_thumbs_down: long (nullable = true)\n",
      " |-- page_thumbs_up: long (nullable = true)\n",
      " |-- page_upgrade: long (nullable = true)\n",
      " |-- time_since_reg: long (nullable = true)\n",
      " |-- songs: long (nullable = false)\n",
      " |-- Macintosh: long (nullable = true)\n",
      " |-- Windows: long (nullable = true)\n",
      " |-- X11: long (nullable = true)\n",
      " |-- compatible: long (nullable = true)\n",
      " |-- iPad: long (nullable = true)\n",
      " |-- iPhone: long (nullable = true)\n",
      "\n"
     ]
    }
   ],
   "source": [
    "df.printSchema()"
   ]
  },
  {
   "cell_type": "markdown",
   "metadata": {},
   "source": [
    "**chekcing and removing highly corealted features in data frame**"
   ]
  },
  {
   "cell_type": "code",
   "execution_count": 42,
   "metadata": {},
   "outputs": [],
   "source": [
    "# Convert df to Pandas df\n",
    "df_pd = df.toPandas()"
   ]
  },
  {
   "cell_type": "code",
   "execution_count": 43,
   "metadata": {},
   "outputs": [
    {
     "name": "stdout",
     "output_type": "stream",
     "text": [
      "highly corealted columns:\n"
     ]
    },
    {
     "data": {
      "text/plain": [
       "['MA',\n",
       " 'page_about',\n",
       " 'page_add_friend',\n",
       " 'page_add_to_playlist',\n",
       " 'page_downgrade',\n",
       " 'page_error',\n",
       " 'page_help',\n",
       " 'page_home',\n",
       " 'page_logout',\n",
       " 'page_nextsong',\n",
       " 'page_roll_advert',\n",
       " 'page_save_settings',\n",
       " 'page_settings',\n",
       " 'page_submit_downgrade',\n",
       " 'page_submit_upgrade',\n",
       " 'page_thumbs_down',\n",
       " 'page_thumbs_up',\n",
       " 'page_upgrade',\n",
       " 'songs',\n",
       " 'Macintosh',\n",
       " 'Windows',\n",
       " 'iPad']"
      ]
     },
     "execution_count": 43,
     "metadata": {},
     "output_type": "execute_result"
    }
   ],
   "source": [
    "# Correlation matrix\n",
    "correlation_matrix = df_pd.corr('pearson')\n",
    "\n",
    "# Too many features to visualize the matrix, so iterate rows and drop highly correlated rows\n",
    "correlated_columns = []\n",
    "for column in correlation_matrix.columns:\n",
    "    correlated = correlation_matrix.drop(column, axis=0).loc[correlation_matrix[column].abs()>=0.5].index.tolist()\n",
    "    if len(correlated) > 0:\n",
    "        correlated_columns.append(column)  \n",
    "        \n",
    "# Show corelated columns\n",
    "print('highly corealted columns:')\n",
    "correlated_columns"
   ]
  },
  {
   "cell_type": "code",
   "execution_count": 44,
   "metadata": {},
   "outputs": [
    {
     "name": "stdout",
     "output_type": "stream",
     "text": [
      "1. page_about\n",
      "2. page_add_friend\n",
      "3. page_add_to_playlist\n",
      "4. page_downgrade\n",
      "5. page_help\n",
      "6. page_home\n",
      "7. page_logout\n",
      "8. page_nextsong\n",
      "9. page_roll_advert\n",
      "10. page_save_settings\n",
      "11. page_settings\n",
      "12. page_submit_downgrade\n",
      "13. page_submit_upgrade\n",
      "14. page_thumbs_down\n",
      "15. page_thumbs_up\n",
      "16. page_upgrade\n",
      "17. songs\n",
      "\n",
      "17 highly correlated features (Pearson Correlation Coeffitient larger than 0.75) to drop.\n"
     ]
    }
   ],
   "source": [
    "# Identify features that higly correlate with any other feature\n",
    "max_corr = 0.75 # Set parameter for maximum permitted pearson correlation coefficient\n",
    "\n",
    "# Loop over columns\n",
    "highly_correlated_columns = []\n",
    "counter = 0\n",
    "for column in correlated_columns:\n",
    "    if (column != 'churn') & (correlation_matrix[column].drop(column).max() > max_corr):\n",
    "        counter += 1\n",
    "        print(str(counter) + '. ' + str(column))\n",
    "        highly_correlated_columns.append(column)     \n",
    "        \n",
    "print('\\n{} highly correlated features (Pearson Correlation Coeffitient larger than {}) to drop.'.format(counter,max_corr))"
   ]
  },
  {
   "cell_type": "code",
   "execution_count": 45,
   "metadata": {},
   "outputs": [
    {
     "data": {
      "image/png": "[encoded data removed]",
      "text/plain": [
       "<matplotlib.figure.Figure at 0x7f2ac88980f0>"
      ]
     },
     "metadata": {
      "needs_background": "light"
     },
     "output_type": "display_data"
    }
   ],
   "source": [
    "# Inspect highly correlated features\n",
    "correlation_matrix_sub = df_pd[highly_correlated_columns].corr('pearson')\n",
    "\n",
    "# Plot correlation matrix\n",
    "ax = plt.subplots(figsize=(7, 7))\n",
    "ax = sns.heatmap(correlation_matrix_sub, annot = True, fmt = '.2f', cbar=False)  \n",
    "plt.show()"
   ]
  },
  {
   "cell_type": "code",
   "execution_count": 46,
   "metadata": {},
   "outputs": [],
   "source": [
    "# Drop features that higly correlate with any other feature\n",
    "df_pd.drop(highly_correlated_columns, axis=1, inplace=True)"
   ]
  },
  {
   "cell_type": "code",
   "execution_count": 47,
   "metadata": {},
   "outputs": [
    {
     "name": "stdout",
     "output_type": "stream",
     "text": [
      "['userId', 'churn', 'avg_session_duration', 'gender', 'length', 'level', 'AK', 'AL', 'AR', 'AZ', 'CA', 'CO', 'CT', 'DC', 'FL', 'GA', 'IA', 'IL', 'IN', 'KY', 'LA', 'MA', 'MD', 'MI', 'MN', 'MO', 'MS', 'MT', 'NC', 'NE', 'NH', 'NJ', 'NV', 'NY', 'OH', 'OK', 'OR', 'PA', 'RI', 'SC', 'TN', 'TX', 'UT', 'VA', 'WA', 'WI', 'WV', 'page_error', 'time_since_reg', 'Macintosh', 'Windows', 'X11', 'compatible', 'iPad', 'iPhone']\n"
     ]
    }
   ],
   "source": [
    "# Store names of features to keep for further analysis\n",
    "features_to_keep = list(df_pd.columns)\n",
    "print(features_to_keep)"
   ]
  },
  {
   "cell_type": "code",
   "execution_count": 48,
   "metadata": {},
   "outputs": [
    {
     "data": {
      "text/plain": [
       "Index(['userId', 'churn', 'avg_session_duration', 'gender', 'length', 'level',\n",
       "       'AK', 'AL', 'AR', 'AZ', 'CA', 'CO', 'CT', 'DC', 'FL', 'GA', 'IA', 'IL',\n",
       "       'IN', 'KY', 'LA', 'MA', 'MD', 'MI', 'MN', 'MO', 'MS', 'MT', 'NC', 'NE',\n",
       "       'NH', 'NJ', 'NV', 'NY', 'OH', 'OK', 'OR', 'PA', 'RI', 'SC', 'TN', 'TX',\n",
       "       'UT', 'VA', 'WA', 'WI', 'WV', 'page_error', 'time_since_reg',\n",
       "       'Macintosh', 'Windows', 'X11', 'compatible', 'iPad', 'iPhone'],\n",
       "      dtype='object')"
      ]
     },
     "execution_count": 48,
     "metadata": {},
     "output_type": "execute_result"
    }
   ],
   "source": [
    "# Select features to keep for further analysis from raw data and build a new Spark dataframe\n",
    "df = df.select(features_to_keep)\n",
    "\n",
    "# Convert to pandas\n",
    "df_pd = df.toPandas()\n",
    "\n",
    "# Print columns\n",
    "df_pd.columns"
   ]
  },
  {
   "cell_type": "code",
   "execution_count": 49,
   "metadata": {},
   "outputs": [
    {
     "name": "stdout",
     "output_type": "stream",
     "text": [
      "Number of missing values: 0\n"
     ]
    }
   ],
   "source": [
    "# Check for missing values\n",
    "missings = df_pd.isnull().sum().sum()\n",
    "print('Number of missing values: {}'.format(missings))"
   ]
  },
  {
   "cell_type": "markdown",
   "metadata": {},
   "source": [
    "Feature Scaling :"
   ]
  },
  {
   "cell_type": "code",
   "execution_count": 50,
   "metadata": {},
   "outputs": [],
   "source": [
    "# Distribution of all numerical, non-binary features\n",
    "num_features = [ 'page_error', 'time_since_reg']"
   ]
  },
  {
   "cell_type": "code",
   "execution_count": 51,
   "metadata": {},
   "outputs": [],
   "source": [
    "df_pd[num_features]\n",
    "plt.show()"
   ]
  },
  {
   "cell_type": "code",
   "execution_count": 52,
   "metadata": {},
   "outputs": [],
   "source": [
    "# Vectorize features\n",
    "assembler = VectorAssembler(inputCols=num_features, outputCol='FeatureVector')\n",
    "df_assembled = assembler.transform(df)\n",
    "# Standardize features\n",
    "scaler = StandardScaler(inputCol='FeatureVector', outputCol='ScaledNumFeatures', withStd=True)\n",
    "scalerModel = scaler.fit(df_assembled)\n",
    "df_scaled = scalerModel.transform(df_assembled)"
   ]
  },
  {
   "cell_type": "code",
   "execution_count": 53,
   "metadata": {},
   "outputs": [
    {
     "data": {
      "text/plain": [
       "Row(userId='100010', churn=0, avg_session_duration=172675084440000, gender=0, length=243.421444909091, level=0, AK=0, AL=0, AR=0, AZ=0, CA=0, CO=0, CT=1, DC=0, FL=0, GA=0, IA=0, IL=0, IN=0, KY=0, LA=0, MA=0, MD=0, MI=0, MN=0, MO=0, MS=0, MT=0, NC=0, NE=0, NH=0, NJ=0, NV=0, NY=0, OH=0, OK=0, OR=0, PA=0, RI=0, SC=0, TN=0, TX=0, UT=0, VA=0, WA=0, WI=0, WV=0, page_error=0, time_since_reg=4807612000, Macintosh=0, Windows=0, X11=0, compatible=0, iPad=0, iPhone=1, FeatureVector=DenseVector([0.0, 4807612000.0]), ScaledNumFeatures=DenseVector([0.0, 1.4762]))"
      ]
     },
     "execution_count": 53,
     "metadata": {},
     "output_type": "execute_result"
    }
   ],
   "source": [
    "df_scaled.head()\n"
   ]
  },
  {
   "cell_type": "markdown",
   "metadata": {},
   "source": [
    "# Modeling\n",
    "Split the full dataset into train, test, and validation sets. Test out several of the machine learning methods you learned. Evaluate the accuracy of the various models, tuning parameters as necessary. Determine your winning model based on test accuracy and report results on the validation set. Since the churned users are a fairly small subset, I suggest using F1 score as the metric to optimize."
   ]
  },
  {
   "cell_type": "code",
   "execution_count": 54,
   "metadata": {},
   "outputs": [],
   "source": [
    "def load_data(path):\n",
    "    '''\n",
    "    Load a data set that is stored under a given path. Rows with missing ids will be removed.\n",
    "    \n",
    "    INPUT\n",
    "    - path(string): Path where the data is stored\n",
    "    \n",
    "    OUTPUT\n",
    "    - df(spark): Dataframe\n",
    "    '''\n",
    "    \n",
    "    # Load small subset for feature engineering\n",
    "    df = spark.read.json(path)\n",
    "\n",
    "    # Drop rows with missing user id\n",
    "    df = df.where(df.userId != '')\n",
    "    \n",
    "    return df"
   ]
  },
  {
   "cell_type": "code",
   "execution_count": 55,
   "metadata": {},
   "outputs": [],
   "source": [
    "def feature_creation(df):\n",
    "    '''\n",
    "    The following Features will be creted at user level:\n",
    "\n",
    "    1.  avg_session_duration: average session duration [float]\n",
    "    2.  churn: \"1\" for a page cancellation confirmation (defined as churn), \"0\" for absence of churn [binary]\n",
    "    3.  gender: \"1\" for male, \"0\" for female [binary]\n",
    "    4.  length: total length of songs listened [float]\n",
    "    5.  level: latest level of a user. \"1\" for paid, \"0\" for free [binary]\n",
    "    6.  location: location of the user [binary]\n",
    "    7.  page: number visits per page [int]\n",
    "    8.  time_since_reg: time since registration [int]\n",
    "    9.  sessions: total number of sessions [int]\n",
    "    10. songs: total number of songs listend [int]\n",
    "    11. userAgent: agents used by the user [binary]\n",
    "    \n",
    "    Afterwards, all features are joined, checked for multicollinearity and strongly correlating features will be removed.\n",
    "    \n",
    "    INPUT\n",
    "    - path(string): Path where the data is stored\n",
    "    \n",
    "    OUTPUT\n",
    "    - df(Dataframe): Dataframe\n",
    "    '''\n",
    "    \n",
    "    # 1.  sum_session_duration\n",
    "    avg_session_duration = df.select(['userId','sessionId','ts']).groupby(['userId','sessionId'])\\\n",
    "                                     .agg(sum('ts').alias('avg_session_duration'))\n",
    "    avg_session_duration = avg_session_duration.drop('sessionId')\n",
    "\n",
    "    # 2.  churn\n",
    "    get_churn = udf(lambda x: 1 if x == 'Cancellation Confirmation' else 0, IntegerType())\n",
    "    churn = df.withColumn('churn', get_churn('page')).select(['userId','churn'])\\\n",
    "                          .groupby('userId').agg(max('churn').alias('churn'))\n",
    "\n",
    "    # 3.  gender\n",
    "    get_gender = udf(lambda x: 1 if x == 'M' else 0, IntegerType())\n",
    "    gender = df.withColumn('gender', get_gender('gender')).select(['userId','gender'])\\\n",
    "                           .groupby('userId').agg(max('gender').alias('gender'))\n",
    "\n",
    "    \n",
    "    # 4.  length\n",
    "    length = df.select(['userId','length']).groupby('userId').agg(sum('length').alias('length'))\n",
    "    \n",
    "    # 5.  level\n",
    "    get_level = udf(lambda x: 1 if x == 'paid' else 0, IntegerType())\n",
    "    level = df.select(['userId', 'level', 'ts']).orderBy(desc('ts')).dropDuplicates(['userId']).select(['userId', 'level'])\\\n",
    "                      .withColumn('level', get_level('level').cast(IntegerType()))\n",
    "    \n",
    "    # 6.  location\n",
    "    get_location = udf(lambda x: x.split(', ')[1].split('-')[0])\n",
    "    get_location_name = udf(lambda x: \"location_\"+x.replace(\" \", \"_\").lower())\n",
    "    location = df.withColumn('location', get_location(df['location'])).select(['userId', 'location'])\\\n",
    "                             .dropDuplicates(['userId']).groupBy('userId').pivot('location').agg(count('location')).fillna(0)\n",
    "    \n",
    "    # 7.  page\n",
    "    get_page = udf(lambda x: 'page_' + x.replace(' ', '_').lower())\n",
    "    exclude_page = ['Cancel', 'Cancellation Confirmation']\n",
    "    page = df.filter(~df['page'].isin(exclude_page)).withColumn('page', get_page(df['page']))\\\n",
    "                     .groupBy(['userId']).pivot('page').agg(count('page')).fillna(0)\n",
    "    \n",
    "    # 8.  time_since_reg\n",
    "    df_reg_ts = df.select(['userId','registration']).groupby('userId').agg(min('registration').alias('reg_ts'))\n",
    "    df_max_ts = df.select(['userId','ts']).groupby('userId').agg(max('ts').alias('max_ts'))\n",
    "    time_since_reg = df_max_ts.join(df_reg_ts, on=['userId'])\n",
    "    time_since_reg = time_since_reg.withColumn('time_since_reg', expr('max_ts - reg_ts'))\n",
    "    time_since_reg = time_since_reg.drop('max_ts')\n",
    "    time_since_reg = time_since_reg.drop('reg_ts')\n",
    "    \n",
    "    # 9.  sessions\n",
    "    sessions = df.select(['userId','sessionId']).dropDuplicates().groupby('userId').agg(count('sessionId').alias('sessions'))\n",
    "    \n",
    "    # 10. songs\n",
    "    songs = df.select(['userId','song']).groupby('userId').agg(count('song').alias('songs'))\n",
    "    \n",
    "    # 11. userAgent\n",
    "    get_agent = udf(lambda x: x.split('(')[1].replace(\";\", \" \").split(\" \")[0])\n",
    "    userAgent = df.withColumn('userAgent', get_agent(df['userAgent'])).select(['userId', 'userAgent'])\\\n",
    "                              .dropDuplicates(['userId']).groupBy('userId').pivot('userAgent').agg(count('userAgent')).fillna(0)\n",
    "    \n",
    "    # Bringing all together\n",
    "    df = churn.join(avg_session_duration, ['userId'])\\\n",
    "          .join(gender, ['userId'])\\\n",
    "          .join(length, ['userId'])\\\n",
    "          .join(level, ['userId'])\\\n",
    "          .join(location, ['userId'])\\\n",
    "          .join(page, ['userId'])\\\n",
    "          .join(time_since_reg, ['userId'])\\\n",
    "          .join(sessions, ['userId'])\\\n",
    "          .join(songs, ['userId'])\\\n",
    "          .join(userAgent, ['userId'])\n",
    "    \n",
    "    # Check for multicollinearity\n",
    "    df_pd = df.toPandas()\n",
    "    correlation_matrix = df_pd.corr('pearson') # Correlation matrix   \n",
    "    correlated_columns = []\n",
    "    for column in correlation_matrix.columns: # Iterate rows and drop highly correlated rows\n",
    "        correlated = correlation_matrix.drop(column, axis=0).loc[correlation_matrix[column].abs()>=0.75].index.tolist()\n",
    "        if len(correlated) > 0:\n",
    "            correlated_columns.append(column)  \n",
    "            \n",
    "    # Drop features that higly correlate with any other feature\n",
    "    df_pd.drop(highly_correlated_columns, axis=1, inplace=True)\n",
    "    features_to_keep = list(df_pd.columns)\n",
    "    df = df.select(features_to_keep)\n",
    "    \n",
    "    # Check for missing values\n",
    "    df_pd = df.toPandas()\n",
    "    missings = df_pd.isnull().sum().sum()\n",
    "    print('Number of missing values: {}'.format(missings))\n",
    "    \n",
    "    return df"
   ]
  },
  {
   "cell_type": "code",
   "execution_count": 56,
   "metadata": {},
   "outputs": [],
   "source": [
    "def feature_scaling(df):\n",
    "    '''\n",
    "    Perform feature standardization on a set of given data to ensure the values in a feature follow the \n",
    "    normal distribution whereby mean of the values is 0 and standard deviation is 1. \n",
    "    \n",
    "    INPUT\n",
    "    - df: PySpark Dataframe\n",
    "    \n",
    "    OUTPUT\n",
    "    - scaled_df: PySpark Dataframe with standardized features\n",
    "    '''\n",
    "    \n",
    "    # Get features without ids and labels\n",
    "    feature_cols = df.drop('userId', 'churn').columns\n",
    "    print(str(len(feature_cols)) + ' Features for Scaling:\\n')\n",
    "    print(feature_cols)\n",
    "\n",
    "    # Vector assembler\n",
    "    assembler = VectorAssembler(inputCols=feature_cols, outputCol='FeatureVector')\n",
    "    \n",
    "    # PySpark.ML expects the target column to be named as 'labelCol' af data type double\n",
    "    df = df.withColumn('label', df['churn'].cast('float')).drop('churn')\n",
    "    \n",
    "    # Feature scaler    \n",
    "    #scaler = StandardScaler(inputCol='FeatureVector', outputCol='ScaledFeatures', withStd=True)\n",
    "    scaler = MinMaxScaler(inputCol='FeatureVector', outputCol='ScaledFeatures')\n",
    "    \n",
    "    # Perform assembling and standardizing of features\n",
    "    df = assembler.transform(df)\n",
    "    scalerModel = scaler.fit(df)\n",
    "    scaled_df = scalerModel.transform(df)\n",
    "    \n",
    "    # Visulize example row\n",
    "    print('\\nExample row of scaled features:\\n')\n",
    "    print(scaled_df.head(1))\n",
    "    \n",
    "    # Just take scaled feature vector and labels\n",
    "    scaled_df = scaled_df.select('ScaledFeatures', 'label')\n",
    "    print('\\nReduced to scaled feature vector and labels:\\n')\n",
    "    print(scaled_df.printSchema())\n",
    "    print(scaled_df.head(1))\n",
    "    \n",
    "    return scaled_df"
   ]
  },
  {
   "cell_type": "code",
   "execution_count": 57,
   "metadata": {},
   "outputs": [],
   "source": [
    "def train_test_split(scaled_df):\n",
    "    '''\n",
    "    Split the data into training set and test set. \n",
    "    \n",
    "    INPUT\n",
    "    - df: Scaled PySpark Dataframe\n",
    "    \n",
    "    OUTPUT\n",
    "    - train_set: training set\n",
    "    - test_set: test set\n",
    "    '''\n",
    "    \n",
    "    # Train-test-validation split\n",
    "    train_set, test_set = scaled_df.drop('userId').randomSplit([0.8, 0.2], seed=42)\n",
    "    \n",
    "    return train_set, test_set"
   ]
  },
  {
   "cell_type": "code",
   "execution_count": 71,
   "metadata": {},
   "outputs": [],
   "source": [
    "def cross_validation(classifier, parameter_grid):\n",
    "    '''\n",
    "    Performs Cross validation \n",
    "    Cross validation is a technique for estimating the performance of a predictive model\n",
    "    \n",
    "    INPUT\n",
    "    - classifier: untrained classifier\n",
    "    - parameter_grid: a grid of parameters\n",
    "    \n",
    "    OUTPUT\n",
    "    - crossval: cross validator\n",
    "    '''\n",
    "\n",
    "    crossval = CrossValidator(estimator = classifier,\n",
    "                              estimatorParamMaps = parameter_grid,\n",
    "                              evaluator = MulticlassClassificationEvaluator(metricName='f1'),\n",
    "                              numFolds = 3)\n",
    "\n",
    "    \n",
    "    return crossval"
   ]
  },
  {
   "cell_type": "code",
   "execution_count": 69,
   "metadata": {},
   "outputs": [],
   "source": [
    "def train_model(classifier, train_set, parameter_grid,base):\n",
    "    '''\n",
    "    Training of classification model\n",
    "    \n",
    "    INPUT\n",
    "    - classifier: untrained classifier\n",
    "    - train_set: training data\n",
    "    - parameter_grid: a grid of parameters\n",
    "    \n",
    "    OUTPUT\n",
    "    - model: trained classifier\n",
    "    '''\n",
    "    \n",
    "    # Cross validation\n",
    "    if base==False : \n",
    "        current_model = cross_validation(classifier, parameter_grid)\n",
    "    else:\n",
    "        current_model=classifier\n",
    "                \n",
    "    # Train model\n",
    "    model = current_model.fit(train_set)\n",
    "    \n",
    "    return model"
   ]
  },
  {
   "cell_type": "code",
   "execution_count": 70,
   "metadata": {},
   "outputs": [],
   "source": [
    "def evaluate_model(classifier, data):\n",
    "    '''\n",
    "    Evaluation of trained classification model\n",
    "    \n",
    "    INPUT\n",
    "    - classifier: trained classifier\n",
    "    - data: evaluation data\n",
    "    \n",
    "    OUTPUT\n",
    "    - metrics : Disctionary of evaluation metrics\n",
    "    '''\n",
    "    \n",
    "    # Predict\n",
    "    predictions = classifier.transform(data)\n",
    "    \n",
    "    # Evaluator\n",
    "    evaluator = MulticlassClassificationEvaluator(predictionCol='prediction', labelCol='label')\n",
    "    \n",
    "    # Calculate metrics\n",
    "    metrics = {}\n",
    "    metrics['precision'] = evaluator.evaluate(predictions, {evaluator.metricName: 'weightedPrecision'})\n",
    "    metrics['recall'] = evaluator.evaluate(predictions, {evaluator.metricName: 'weightedRecall'})\n",
    "    metrics['f1'] = evaluator.evaluate(predictions, {evaluator.metricName: 'f1'})\n",
    "    metrics['accuracy'] = evaluator.evaluate(predictions, {evaluator.metricName: 'accuracy'})\n",
    "    metrics['confusion_matrix'] = predictions.groupby('label').pivot('prediction').count()\n",
    "    \n",
    "    return metrics"
   ]
  },
  {
   "cell_type": "code",
   "execution_count": 62,
   "metadata": {},
   "outputs": [],
   "source": [
    "def ml_pipeline(model, path):\n",
    "    '''\n",
    "    Machine Learning pipeline that brings all steps together: \n",
    "    1. Load data\n",
    "    2. Feature creation\n",
    "    3. Feature Scaling\n",
    "    4. Train-Test Split\n",
    "    5. Build model\n",
    "    6. Cross validation\n",
    "    7. Model training\n",
    "    8. Model evaluation\n",
    "    \n",
    "    INPUT\n",
    "    - model: classification model to build\n",
    "    - train_set: training data\n",
    "    - test_set: test data\n",
    "    \n",
    "    OUTPUT\n",
    "    - trained_classifier: trained model\n",
    "    '''\n",
    "    print('\\nModel: ' + model + '\\n')\n",
    "    \n",
    "    print('++++++++++++++++++++++++++++++++')\n",
    "    print('1. Load Data')\n",
    "    print('++++++++++++++++++++++++++++++++')\n",
    "    \n",
    "    df = load_data(path)\n",
    "    \n",
    "    print('++++++++++++++++++++++++++++++++')\n",
    "    print('2. Feature Creation')\n",
    "    print('++++++++++++++++++++++++++++++++')\n",
    "    \n",
    "    df = feature_creation(df)\n",
    "\n",
    "    print('++++++++++++++++++++++++++++++++')\n",
    "    print('3. Feature Scaling')\n",
    "    print('++++++++++++++++++++++++++++++++')\n",
    "    \n",
    "    scaled_df = feature_scaling(df)\n",
    "    \n",
    "    print('++++++++++++++++++++++++++++++++')\n",
    "    print('4. Train-Test Split')\n",
    "    print('++++++++++++++++++++++++++++++++')\n",
    "    \n",
    "    train_set, test_set = train_test_split(scaled_df)\n",
    "    \n",
    "    print('++++++++++++++++++++++++++++++++')\n",
    "    print('5. Build model')\n",
    "    print('++++++++++++++++++++++++++++++++')\n",
    "    parameter_grid = None  \n",
    "    base = False\n",
    "    if model == 'Random Forest':\n",
    "        classifier = RandomForestClassifier(labelCol='label', featuresCol='ScaledFeatures',maxMemoryInMB = 1000, \n",
    "        seed=42)\n",
    "        # Random forest with cross validation\n",
    "        parameter_grid = ParamGridBuilder() \\\n",
    "        .addGrid(classifier.numTrees, [5,10,20]) \\\n",
    "        .addGrid(classifier.minInstancesPerNode, [5, 10, 20] ) \\\n",
    "        .build()\n",
    "        file_name = 'randomforest_cf.model'\n",
    "    if model == 'Base Random Forest':\n",
    "        classifier = RandomForestClassifier(labelCol='label', featuresCol='ScaledFeatures',maxMemoryInMB = 1000  ,seed=42)\n",
    "        base = True\n",
    "        file_name = 'cv_randomforest_cf.model'    \n",
    "    if model == 'Gradient Boosting':\n",
    "        classifier = GBTClassifier(labelCol='label', featuresCol='ScaledFeatures')\n",
    "        parameter_grid = ParamGridBuilder() \\\n",
    "        .addGrid(classifier.maxDepth, [5,10]) \\\n",
    "        .addGrid(classifier.minInstancesPerNode, [5, 15] ) \\\n",
    "        .build()\n",
    "        file_name = 'gradientboo_cf.model'\n",
    "    if model == 'Base Gradient Boosting':\n",
    "        base= True\n",
    "        classifier = GBTClassifier(labelCol='label', featuresCol='ScaledFeatures')\n",
    "        file_name = 'cv_gradientboo_cf.model'\n",
    "        \n",
    "        \n",
    "    print('++++++++++++++++++++++++++++++++')\n",
    "    print('6. & 7. Cross Val. & Training')\n",
    "    print('++++++++++++++++++++++++++++++++')\n",
    "    \n",
    "    trained_classifier = train_model(classifier, train_set, parameter_grid,base)\n",
    "    \n",
    "    # Get best model\n",
    "    if base == False :\n",
    "        bestModel = trained_classifier.bestModel\n",
    "        trained_classifer=bestModel\n",
    "    \n",
    "        # Save trained model\n",
    "        bestModel.write().overwrite().save(file_name)\n",
    "    else:\n",
    "        trained_classifier.write().overwrite().save(file_name)\n",
    "    \n",
    "    print('++++++++++++++++++++++++++++++++')\n",
    "    print('8. Model Evaluation')\n",
    "    print('++++++++++++++++++++++++++++++++')\n",
    "    \n",
    "    metrics = evaluate_model(trained_classifier, test_set)\n",
    "    print(metrics)\n",
    "    \n",
    "    return metrics"
   ]
  },
  {
   "cell_type": "markdown",
   "metadata": {},
   "source": [
    "# Final Steps\n",
    "Clean up your code, adding comments and renaming variables to make the code easier to read and maintain. Refer to the Spark Project Overview page and Data Scientist Capstone Project Rubric to make sure you are including all components of the capstone project and meet all expectations. Remember, this includes thorough documentation in a README file in a Github repository, as well as a web app or blog post."
   ]
  },
  {
   "cell_type": "code",
   "execution_count": 72,
   "metadata": {},
   "outputs": [
    {
     "name": "stdout",
     "output_type": "stream",
     "text": [
      "\n",
      "Model: Base Random Forest\n",
      "\n",
      "++++++++++++++++++++++++++++++++\n",
      "1. Load Data\n",
      "++++++++++++++++++++++++++++++++\n",
      "++++++++++++++++++++++++++++++++\n",
      "2. Feature Creation\n",
      "++++++++++++++++++++++++++++++++\n",
      "Number of missing values: 0\n",
      "++++++++++++++++++++++++++++++++\n",
      "3. Feature Scaling\n",
      "++++++++++++++++++++++++++++++++\n",
      "54 Features for Scaling:\n",
      "\n",
      "['avg_session_duration', 'gender', 'length', 'level', 'AK', 'AL', 'AR', 'AZ', 'CA', 'CO', 'CT', 'DC', 'FL', 'GA', 'IA', 'IL', 'IN', 'KY', 'LA', 'MA', 'MD', 'MI', 'MN', 'MO', 'MS', 'MT', 'NC', 'NE', 'NH', 'NJ', 'NV', 'NY', 'OH', 'OK', 'OR', 'PA', 'RI', 'SC', 'TN', 'TX', 'UT', 'VA', 'WA', 'WI', 'WV', 'page_error', 'time_since_reg', 'sessions', 'Macintosh', 'Windows', 'X11', 'compatible', 'iPad', 'iPhone']\n",
      "\n",
      "Example row of scaled features:\n",
      "\n",
      "[Row(userId='100010', avg_session_duration=172675084440000, gender=0, length=66940.89735000003, level=0, AK=0, AL=0, AR=0, AZ=0, CA=0, CO=0, CT=1, DC=0, FL=0, GA=0, IA=0, IL=0, IN=0, KY=0, LA=0, MA=0, MD=0, MI=0, MN=0, MO=0, MS=0, MT=0, NC=0, NE=0, NH=0, NJ=0, NV=0, NY=0, OH=0, OK=0, OR=0, PA=0, RI=0, SC=0, TN=0, TX=0, UT=0, VA=0, WA=0, WI=0, WV=0, page_error=0, time_since_reg=4807612000, sessions=7, Macintosh=0, Windows=0, X11=0, compatible=0, iPad=0, iPhone=1, label=0.0, FeatureVector=SparseVector(54, {0: 1.7267, 2: 66940.8974, 10: 1.0, 46: 4807612000.0, 47: 7.0, 53: 1.0}), ScaledFeatures=DenseVector([0.0866, 0.0, 0.0333, 0.0, 0.0, 0.0, 0.0, 0.0, 0.0, 0.0, 1.0, 0.0, 0.0, 0.0, 0.0, 0.0, 0.0, 0.0, 0.0, 0.0, 0.0, 0.0, 0.0, 0.0, 0.0, 0.0, 0.0, 0.0, 0.0, 0.0, 0.0, 0.0, 0.0, 0.0, 0.0, 0.0, 0.0, 0.0, 0.0, 0.0, 0.0, 0.0, 0.0, 0.0, 0.0, 0.0, 0.2161, 0.0566, 0.0, 0.0, 0.0, 0.0, 0.0, 1.0]))]\n",
      "\n",
      "Reduced to scaled feature vector and labels:\n",
      "\n",
      "root\n",
      " |-- ScaledFeatures: vector (nullable = true)\n",
      " |-- label: float (nullable = true)\n",
      "\n",
      "None\n",
      "[Row(ScaledFeatures=DenseVector([0.0866, 0.0, 0.0333, 0.0, 0.0, 0.0, 0.0, 0.0, 0.0, 0.0, 1.0, 0.0, 0.0, 0.0, 0.0, 0.0, 0.0, 0.0, 0.0, 0.0, 0.0, 0.0, 0.0, 0.0, 0.0, 0.0, 0.0, 0.0, 0.0, 0.0, 0.0, 0.0, 0.0, 0.0, 0.0, 0.0, 0.0, 0.0, 0.0, 0.0, 0.0, 0.0, 0.0, 0.0, 0.0, 0.0, 0.2161, 0.0566, 0.0, 0.0, 0.0, 0.0, 0.0, 1.0]), label=0.0)]\n",
      "++++++++++++++++++++++++++++++++\n",
      "4. Train-Test Split\n",
      "++++++++++++++++++++++++++++++++\n",
      "++++++++++++++++++++++++++++++++\n",
      "5. Build model\n",
      "++++++++++++++++++++++++++++++++\n",
      "++++++++++++++++++++++++++++++++\n",
      "6. & 7. Cross Val. & Training\n",
      "++++++++++++++++++++++++++++++++\n",
      "++++++++++++++++++++++++++++++++\n",
      "8. Model Evaluation\n",
      "++++++++++++++++++++++++++++++++\n",
      "{'precision': 0.898852809941126, 'recall': 0.8849144634525661, 'f1': 0.8577673992402144, 'accuracy': 0.8849144634525661, 'confusion_matrix': DataFrame[label: float, 0.0: bigint, 1.0: bigint]}\n"
     ]
    }
   ],
   "source": [
    "# 1. Model: Random Forest Classifier\n",
    "Base_random_forest_metrics = ml_pipeline('Base Random Forest', 'mini_sparkify_event_data.json')"
   ]
  },
  {
   "cell_type": "code",
   "execution_count": 73,
   "metadata": {},
   "outputs": [
    {
     "name": "stdout",
     "output_type": "stream",
     "text": [
      "\n",
      "Model: Random Forest\n",
      "\n",
      "++++++++++++++++++++++++++++++++\n",
      "1. Load Data\n",
      "++++++++++++++++++++++++++++++++\n",
      "++++++++++++++++++++++++++++++++\n",
      "2. Feature Creation\n",
      "++++++++++++++++++++++++++++++++\n",
      "Number of missing values: 0\n",
      "++++++++++++++++++++++++++++++++\n",
      "3. Feature Scaling\n",
      "++++++++++++++++++++++++++++++++\n",
      "54 Features for Scaling:\n",
      "\n",
      "['avg_session_duration', 'gender', 'length', 'level', 'AK', 'AL', 'AR', 'AZ', 'CA', 'CO', 'CT', 'DC', 'FL', 'GA', 'IA', 'IL', 'IN', 'KY', 'LA', 'MA', 'MD', 'MI', 'MN', 'MO', 'MS', 'MT', 'NC', 'NE', 'NH', 'NJ', 'NV', 'NY', 'OH', 'OK', 'OR', 'PA', 'RI', 'SC', 'TN', 'TX', 'UT', 'VA', 'WA', 'WI', 'WV', 'page_error', 'time_since_reg', 'sessions', 'Macintosh', 'Windows', 'X11', 'compatible', 'iPad', 'iPhone']\n",
      "\n",
      "Example row of scaled features:\n",
      "\n",
      "[Row(userId='100010', avg_session_duration=172675084440000, gender=0, length=66940.89735000003, level=0, AK=0, AL=0, AR=0, AZ=0, CA=0, CO=0, CT=1, DC=0, FL=0, GA=0, IA=0, IL=0, IN=0, KY=0, LA=0, MA=0, MD=0, MI=0, MN=0, MO=0, MS=0, MT=0, NC=0, NE=0, NH=0, NJ=0, NV=0, NY=0, OH=0, OK=0, OR=0, PA=0, RI=0, SC=0, TN=0, TX=0, UT=0, VA=0, WA=0, WI=0, WV=0, page_error=0, time_since_reg=4807612000, sessions=7, Macintosh=0, Windows=0, X11=0, compatible=0, iPad=0, iPhone=1, label=0.0, FeatureVector=SparseVector(54, {0: 1.7267, 2: 66940.8974, 10: 1.0, 46: 4807612000.0, 47: 7.0, 53: 1.0}), ScaledFeatures=DenseVector([0.0866, 0.0, 0.0333, 0.0, 0.0, 0.0, 0.0, 0.0, 0.0, 0.0, 1.0, 0.0, 0.0, 0.0, 0.0, 0.0, 0.0, 0.0, 0.0, 0.0, 0.0, 0.0, 0.0, 0.0, 0.0, 0.0, 0.0, 0.0, 0.0, 0.0, 0.0, 0.0, 0.0, 0.0, 0.0, 0.0, 0.0, 0.0, 0.0, 0.0, 0.0, 0.0, 0.0, 0.0, 0.0, 0.0, 0.2161, 0.0566, 0.0, 0.0, 0.0, 0.0, 0.0, 1.0]))]\n",
      "\n",
      "Reduced to scaled feature vector and labels:\n",
      "\n",
      "root\n",
      " |-- ScaledFeatures: vector (nullable = true)\n",
      " |-- label: float (nullable = true)\n",
      "\n",
      "None\n",
      "[Row(ScaledFeatures=DenseVector([0.0866, 0.0, 0.0333, 0.0, 0.0, 0.0, 0.0, 0.0, 0.0, 0.0, 1.0, 0.0, 0.0, 0.0, 0.0, 0.0, 0.0, 0.0, 0.0, 0.0, 0.0, 0.0, 0.0, 0.0, 0.0, 0.0, 0.0, 0.0, 0.0, 0.0, 0.0, 0.0, 0.0, 0.0, 0.0, 0.0, 0.0, 0.0, 0.0, 0.0, 0.0, 0.0, 0.0, 0.0, 0.0, 0.0, 0.2161, 0.0566, 0.0, 0.0, 0.0, 0.0, 0.0, 1.0]), label=0.0)]\n",
      "++++++++++++++++++++++++++++++++\n",
      "4. Train-Test Split\n",
      "++++++++++++++++++++++++++++++++\n",
      "++++++++++++++++++++++++++++++++\n",
      "5. Build model\n",
      "++++++++++++++++++++++++++++++++\n",
      "++++++++++++++++++++++++++++++++\n",
      "6. & 7. Cross Val. & Training\n",
      "++++++++++++++++++++++++++++++++\n",
      "++++++++++++++++++++++++++++++++\n",
      "8. Model Evaluation\n",
      "++++++++++++++++++++++++++++++++\n",
      "{'precision': 0.8952664880117123, 'recall': 0.880248833592535, 'f1': 0.8501031527018802, 'accuracy': 0.880248833592535, 'confusion_matrix': DataFrame[label: float, 0.0: bigint, 1.0: bigint]}\n"
     ]
    }
   ],
   "source": [
    "# 1. Model: Random Forest Classifier\n",
    "cv_random_forest_metrics = ml_pipeline('Random Forest', 'mini_sparkify_event_data.json')"
   ]
  },
  {
   "cell_type": "code",
   "execution_count": 74,
   "metadata": {},
   "outputs": [
    {
     "name": "stdout",
     "output_type": "stream",
     "text": [
      "\n",
      "Model: Base Gradient Boosting\n",
      "\n",
      "++++++++++++++++++++++++++++++++\n",
      "1. Load Data\n",
      "++++++++++++++++++++++++++++++++\n",
      "++++++++++++++++++++++++++++++++\n",
      "2. Feature Creation\n",
      "++++++++++++++++++++++++++++++++\n",
      "Number of missing values: 0\n",
      "++++++++++++++++++++++++++++++++\n",
      "3. Feature Scaling\n",
      "++++++++++++++++++++++++++++++++\n",
      "54 Features for Scaling:\n",
      "\n",
      "['avg_session_duration', 'gender', 'length', 'level', 'AK', 'AL', 'AR', 'AZ', 'CA', 'CO', 'CT', 'DC', 'FL', 'GA', 'IA', 'IL', 'IN', 'KY', 'LA', 'MA', 'MD', 'MI', 'MN', 'MO', 'MS', 'MT', 'NC', 'NE', 'NH', 'NJ', 'NV', 'NY', 'OH', 'OK', 'OR', 'PA', 'RI', 'SC', 'TN', 'TX', 'UT', 'VA', 'WA', 'WI', 'WV', 'page_error', 'time_since_reg', 'sessions', 'Macintosh', 'Windows', 'X11', 'compatible', 'iPad', 'iPhone']\n",
      "\n",
      "Example row of scaled features:\n",
      "\n",
      "[Row(userId='100010', avg_session_duration=172675084440000, gender=0, length=66940.89735000003, level=0, AK=0, AL=0, AR=0, AZ=0, CA=0, CO=0, CT=1, DC=0, FL=0, GA=0, IA=0, IL=0, IN=0, KY=0, LA=0, MA=0, MD=0, MI=0, MN=0, MO=0, MS=0, MT=0, NC=0, NE=0, NH=0, NJ=0, NV=0, NY=0, OH=0, OK=0, OR=0, PA=0, RI=0, SC=0, TN=0, TX=0, UT=0, VA=0, WA=0, WI=0, WV=0, page_error=0, time_since_reg=4807612000, sessions=7, Macintosh=0, Windows=0, X11=0, compatible=0, iPad=0, iPhone=1, label=0.0, FeatureVector=SparseVector(54, {0: 1.7267, 2: 66940.8974, 10: 1.0, 46: 4807612000.0, 47: 7.0, 53: 1.0}), ScaledFeatures=DenseVector([0.0866, 0.0, 0.0333, 0.0, 0.0, 0.0, 0.0, 0.0, 0.0, 0.0, 1.0, 0.0, 0.0, 0.0, 0.0, 0.0, 0.0, 0.0, 0.0, 0.0, 0.0, 0.0, 0.0, 0.0, 0.0, 0.0, 0.0, 0.0, 0.0, 0.0, 0.0, 0.0, 0.0, 0.0, 0.0, 0.0, 0.0, 0.0, 0.0, 0.0, 0.0, 0.0, 0.0, 0.0, 0.0, 0.0, 0.2161, 0.0566, 0.0, 0.0, 0.0, 0.0, 0.0, 1.0]))]\n",
      "\n",
      "Reduced to scaled feature vector and labels:\n",
      "\n",
      "root\n",
      " |-- ScaledFeatures: vector (nullable = true)\n",
      " |-- label: float (nullable = true)\n",
      "\n",
      "None\n",
      "[Row(ScaledFeatures=DenseVector([0.0866, 0.0, 0.0333, 0.0, 0.0, 0.0, 0.0, 0.0, 0.0, 0.0, 1.0, 0.0, 0.0, 0.0, 0.0, 0.0, 0.0, 0.0, 0.0, 0.0, 0.0, 0.0, 0.0, 0.0, 0.0, 0.0, 0.0, 0.0, 0.0, 0.0, 0.0, 0.0, 0.0, 0.0, 0.0, 0.0, 0.0, 0.0, 0.0, 0.0, 0.0, 0.0, 0.0, 0.0, 0.0, 0.0, 0.2161, 0.0566, 0.0, 0.0, 0.0, 0.0, 0.0, 1.0]), label=0.0)]\n",
      "++++++++++++++++++++++++++++++++\n",
      "4. Train-Test Split\n",
      "++++++++++++++++++++++++++++++++\n",
      "++++++++++++++++++++++++++++++++\n",
      "5. Build model\n",
      "++++++++++++++++++++++++++++++++\n",
      "++++++++++++++++++++++++++++++++\n",
      "6. & 7. Cross Val. & Training\n",
      "++++++++++++++++++++++++++++++++\n",
      "++++++++++++++++++++++++++++++++\n",
      "8. Model Evaluation\n",
      "++++++++++++++++++++++++++++++++\n",
      "{'precision': 0.9758365932746309, 'recall': 0.9751166407465008, 'f1': 0.9742836235896901, 'accuracy': 0.9751166407465007, 'confusion_matrix': DataFrame[label: float, 0.0: bigint, 1.0: bigint]}\n"
     ]
    }
   ],
   "source": [
    "## 1. Model: Random Forest Classifier\n",
    "base_gradient_boosting_metrics = ml_pipeline('Base Gradient Boosting', 'mini_sparkify_event_data.json')"
   ]
  },
  {
   "cell_type": "code",
   "execution_count": null,
   "metadata": {},
   "outputs": [
    {
     "name": "stdout",
     "output_type": "stream",
     "text": [
      "\n",
      "Model: Gradient Boosting\n",
      "\n",
      "++++++++++++++++++++++++++++++++\n",
      "1. Load Data\n",
      "++++++++++++++++++++++++++++++++\n",
      "++++++++++++++++++++++++++++++++\n",
      "2. Feature Creation\n",
      "++++++++++++++++++++++++++++++++\n",
      "Number of missing values: 0\n",
      "++++++++++++++++++++++++++++++++\n",
      "3. Feature Scaling\n",
      "++++++++++++++++++++++++++++++++\n",
      "54 Features for Scaling:\n",
      "\n",
      "['avg_session_duration', 'gender', 'length', 'level', 'AK', 'AL', 'AR', 'AZ', 'CA', 'CO', 'CT', 'DC', 'FL', 'GA', 'IA', 'IL', 'IN', 'KY', 'LA', 'MA', 'MD', 'MI', 'MN', 'MO', 'MS', 'MT', 'NC', 'NE', 'NH', 'NJ', 'NV', 'NY', 'OH', 'OK', 'OR', 'PA', 'RI', 'SC', 'TN', 'TX', 'UT', 'VA', 'WA', 'WI', 'WV', 'page_error', 'time_since_reg', 'sessions', 'Macintosh', 'Windows', 'X11', 'compatible', 'iPad', 'iPhone']\n",
      "\n",
      "Example row of scaled features:\n",
      "\n",
      "[Row(userId='100010', avg_session_duration=172675084440000, gender=0, length=66940.89735000003, level=0, AK=0, AL=0, AR=0, AZ=0, CA=0, CO=0, CT=1, DC=0, FL=0, GA=0, IA=0, IL=0, IN=0, KY=0, LA=0, MA=0, MD=0, MI=0, MN=0, MO=0, MS=0, MT=0, NC=0, NE=0, NH=0, NJ=0, NV=0, NY=0, OH=0, OK=0, OR=0, PA=0, RI=0, SC=0, TN=0, TX=0, UT=0, VA=0, WA=0, WI=0, WV=0, page_error=0, time_since_reg=4807612000, sessions=7, Macintosh=0, Windows=0, X11=0, compatible=0, iPad=0, iPhone=1, label=0.0, FeatureVector=SparseVector(54, {0: 1.7267, 2: 66940.8974, 10: 1.0, 46: 4807612000.0, 47: 7.0, 53: 1.0}), ScaledFeatures=DenseVector([0.0866, 0.0, 0.0333, 0.0, 0.0, 0.0, 0.0, 0.0, 0.0, 0.0, 1.0, 0.0, 0.0, 0.0, 0.0, 0.0, 0.0, 0.0, 0.0, 0.0, 0.0, 0.0, 0.0, 0.0, 0.0, 0.0, 0.0, 0.0, 0.0, 0.0, 0.0, 0.0, 0.0, 0.0, 0.0, 0.0, 0.0, 0.0, 0.0, 0.0, 0.0, 0.0, 0.0, 0.0, 0.0, 0.0, 0.2161, 0.0566, 0.0, 0.0, 0.0, 0.0, 0.0, 1.0]))]\n",
      "\n",
      "Reduced to scaled feature vector and labels:\n",
      "\n",
      "root\n",
      " |-- ScaledFeatures: vector (nullable = true)\n",
      " |-- label: float (nullable = true)\n",
      "\n",
      "None\n",
      "[Row(ScaledFeatures=DenseVector([0.0866, 0.0, 0.0333, 0.0, 0.0, 0.0, 0.0, 0.0, 0.0, 0.0, 1.0, 0.0, 0.0, 0.0, 0.0, 0.0, 0.0, 0.0, 0.0, 0.0, 0.0, 0.0, 0.0, 0.0, 0.0, 0.0, 0.0, 0.0, 0.0, 0.0, 0.0, 0.0, 0.0, 0.0, 0.0, 0.0, 0.0, 0.0, 0.0, 0.0, 0.0, 0.0, 0.0, 0.0, 0.0, 0.0, 0.2161, 0.0566, 0.0, 0.0, 0.0, 0.0, 0.0, 1.0]), label=0.0)]\n",
      "++++++++++++++++++++++++++++++++\n",
      "4. Train-Test Split\n",
      "++++++++++++++++++++++++++++++++\n",
      "++++++++++++++++++++++++++++++++\n",
      "5. Build model\n",
      "++++++++++++++++++++++++++++++++\n",
      "++++++++++++++++++++++++++++++++\n",
      "6. & 7. Cross Val. & Training\n",
      "++++++++++++++++++++++++++++++++\n"
     ]
    }
   ],
   "source": [
    "# 1. Model: Random Forest Classifier\n",
    "cv_gradient_boosting_metrics = ml_pipeline('Gradient Boosting', 'mini_sparkify_event_data.json')"
   ]
  }
 ],
 "metadata": {
  "kernelspec": {
   "display_name": "Python 3",
   "language": "python",
   "name": "python3"
  },
  "language_info": {
   "codemirror_mode": {
    "name": "ipython",
    "version": 3
   },
   "file_extension": ".py",
   "mimetype": "text/x-python",
   "name": "python",
   "nbconvert_exporter": "python",
   "pygments_lexer": "ipython3",
   "version": "3.6.3"
  }
 },
 "nbformat": 4,
 "nbformat_minor": 2
}
